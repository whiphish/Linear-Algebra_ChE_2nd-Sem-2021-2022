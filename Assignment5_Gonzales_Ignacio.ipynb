{
  "nbformat": 4,
  "nbformat_minor": 0,
  "metadata": {
    "kernelspec": {
      "display_name": "Python 3",
      "language": "python",
      "name": "python3"
    },
    "language_info": {
      "codemirror_mode": {
        "name": "ipython",
        "version": 3
      },
      "file_extension": ".py",
      "mimetype": "text/x-python",
      "name": "python",
      "nbconvert_exporter": "python",
      "pygments_lexer": "ipython3",
      "version": "3.8.3"
    },
    "colab": {
      "name": "Assignment5_Gonzales_Ignacio2.ipynb",
      "provenance": [],
      "collapsed_sections": [],
      "include_colab_link": true
    }
  },
  "cells": [
    {
      "cell_type": "markdown",
      "metadata": {
        "id": "view-in-github",
        "colab_type": "text"
      },
      "source": [
        "<a href=\"https://colab.research.google.com/github/whiphish/Linear-Algebra_ChE_2nd-Sem-2021-2022/blob/main/Assignment5_Gonzales_Ignacio.ipynb\" target=\"_parent\"><img src=\"https://colab.research.google.com/assets/colab-badge.svg\" alt=\"Open In Colab\"/></a>"
      ]
    },
    {
      "cell_type": "markdown",
      "metadata": {
        "id": "YH6dSOMX5qAQ"
      },
      "source": [
        "# Linear Algebra for ChE/PetE\n",
        "## Laboratory 4 : Matrix Operations"
      ]
    },
    {
      "cell_type": "markdown",
      "metadata": {
        "id": "BInKdhlu5qAV"
      },
      "source": [
        "### Objectives\n",
        "At the end of this activity, the students will learn the following advanced topics about matrices and vectors:\n",
        "1. Operations used to solve intermediate equations.\n",
        "2. Transposition.\n",
        "3. Dot product or Inner product.\n",
        "4. Dot product properties.\n",
        "5. Determinants.\n",
        "6. Inverse Matrices\n",
        "7. Application of Dot Product Properties."
      ]
    },
    {
      "cell_type": "markdown",
      "metadata": {
        "id": "Fz9EI_8Z5qAV"
      },
      "source": [
        "## Discussion"
      ]
    },
    {
      "cell_type": "code",
      "metadata": {
        "id": "S6r8UaPu5qAW"
      },
      "source": [
        "import numpy as np\n",
        "import matplotlib.pyplot as plt\n",
        "%matplotlib inline"
      ],
      "execution_count": null,
      "outputs": []
    },
    {
      "cell_type": "markdown",
      "metadata": {
        "id": "ORllWzOl5qAX"
      },
      "source": [
        "## Transposition"
      ]
    },
    {
      "cell_type": "markdown",
      "metadata": {
        "id": "4LtZTUbY5qAY"
      },
      "source": [
        "One of the fundamental operations in matrix algebra is Transposition. The transpose of a matrix is done by flipping the values of its elements over its diagonals. With this, the rows and columns from the original matrix will be switched. So for a matrix $A$ its transpose is denoted as $A^T$. So for example:"
      ]
    },
    {
      "cell_type": "markdown",
      "metadata": {
        "id": "HZeNXvo-5qAY"
      },
      "source": [
        "$$A = \\begin{bmatrix} 5 & 1 & 2\\\\10 & -11 & 10 \\\\ 10 & -13 & 13\\end{bmatrix} $$"
      ]
    },
    {
      "cell_type": "markdown",
      "metadata": {
        "id": "tgGXC4Uz5qAZ"
      },
      "source": [
        "$$ A^T = \\begin{bmatrix} 5 & 10 & 10\\\\1 & -11 &-13 \\\\ 2 & 10 & 13\\end{bmatrix}$$"
      ]
    },
    {
      "cell_type": "markdown",
      "metadata": {
        "id": "JMVtzwZG5qAZ"
      },
      "source": [
        "This can now be achieved programmatically by using `np.transpose()` or using the `T` method."
      ]
    },
    {
      "cell_type": "code",
      "metadata": {
        "colab": {
          "base_uri": "https://localhost:8080/"
        },
        "id": "7cIxacBV5qAa",
        "outputId": "d1e6cae0-ef9c-4fe0-ffe6-465e6157b1e4"
      },
      "source": [
        "#declaration of variables\n",
        "A = np.array([\n",
        "              [1,4,5],\n",
        "              [2,3,6],\n",
        "              [9,8,7]\n",
        "])\n",
        "A"
      ],
      "execution_count": null,
      "outputs": [
        {
          "output_type": "execute_result",
          "data": {
            "text/plain": [
              "array([[1, 4, 5],\n",
              "       [2, 3, 6],\n",
              "       [9, 8, 7]])"
            ]
          },
          "metadata": {},
          "execution_count": 174
        }
      ]
    },
    {
      "cell_type": "code",
      "metadata": {
        "colab": {
          "base_uri": "https://localhost:8080/"
        },
        "id": "AhW8-DMO5qAb",
        "outputId": "64fcdbe0-f91e-4c0e-ace8-cdaa10b88529"
      },
      "source": [
        "#transpose\n",
        "AT1 = np.transpose(A)\n",
        "AT1"
      ],
      "execution_count": null,
      "outputs": [
        {
          "output_type": "execute_result",
          "data": {
            "text/plain": [
              "array([[1, 2, 9],\n",
              "       [4, 3, 8],\n",
              "       [5, 6, 7]])"
            ]
          },
          "metadata": {},
          "execution_count": 175
        }
      ]
    },
    {
      "cell_type": "code",
      "metadata": {
        "id": "eP1SHyCK5qAb",
        "colab": {
          "base_uri": "https://localhost:8080/"
        },
        "outputId": "2f8e08fb-3d4e-4505-d006-a27aaceaf40d"
      },
      "source": [
        "#other way to transpose\n",
        "AT2 = A.T\n",
        "AT2"
      ],
      "execution_count": null,
      "outputs": [
        {
          "output_type": "execute_result",
          "data": {
            "text/plain": [
              "array([[1, 2, 9],\n",
              "       [4, 3, 8],\n",
              "       [5, 6, 7]])"
            ]
          },
          "metadata": {},
          "execution_count": 176
        }
      ]
    },
    {
      "cell_type": "code",
      "metadata": {
        "id": "sQzzt0hr5qAb",
        "colab": {
          "base_uri": "https://localhost:8080/"
        },
        "outputId": "fa62859e-c35a-4c02-9db9-70a270659888"
      },
      "source": [
        "#proof of equality for transpose samples\n",
        "np.array_equiv(AT1, AT2)"
      ],
      "execution_count": null,
      "outputs": [
        {
          "output_type": "execute_result",
          "data": {
            "text/plain": [
              "True"
            ]
          },
          "metadata": {},
          "execution_count": 177
        }
      ]
    },
    {
      "cell_type": "code",
      "metadata": {
        "id": "Z2piL7OG5qAb",
        "colab": {
          "base_uri": "https://localhost:8080/"
        },
        "outputId": "b2bcdae9-9431-4cae-ed84-2e39fe895fa7"
      },
      "source": [
        "#declaration of variable and its shape\n",
        "B = np.array([\n",
        "    [12,21,33,45],\n",
        "    [15,30,12,15],\n",
        "    [1,2,3,4],\n",
        "])\n",
        "B.shape"
      ],
      "execution_count": null,
      "outputs": [
        {
          "output_type": "execute_result",
          "data": {
            "text/plain": [
              "(3, 4)"
            ]
          },
          "metadata": {},
          "execution_count": 178
        }
      ]
    },
    {
      "cell_type": "code",
      "metadata": {
        "id": "AJ99IXpz5qAc",
        "colab": {
          "base_uri": "https://localhost:8080/"
        },
        "outputId": "193126cb-c147-4a64-f9f3-9f3e65a08c96"
      },
      "source": [
        "#declaration of transpose and its shape\n",
        "np.transpose(B).shape"
      ],
      "execution_count": null,
      "outputs": [
        {
          "output_type": "execute_result",
          "data": {
            "text/plain": [
              "(4, 3)"
            ]
          },
          "metadata": {},
          "execution_count": 179
        }
      ]
    },
    {
      "cell_type": "code",
      "metadata": {
        "id": "lZCQUI7M5qAc",
        "colab": {
          "base_uri": "https://localhost:8080/"
        },
        "outputId": "1c561f53-173b-4be6-d8a3-9ccaabe9a053"
      },
      "source": [
        "#other way to describe shape of transpose\n",
        "B.T.shape"
      ],
      "execution_count": null,
      "outputs": [
        {
          "output_type": "execute_result",
          "data": {
            "text/plain": [
              "(4, 3)"
            ]
          },
          "metadata": {},
          "execution_count": 180
        }
      ]
    },
    {
      "cell_type": "markdown",
      "metadata": {
        "id": "-GmVMkBk5qAc"
      },
      "source": [
        "#### Try to create your own matrix (you can try non-squares) to test transposition."
      ]
    },
    {
      "cell_type": "code",
      "metadata": {
        "id": "agJQTy6E5qAc",
        "colab": {
          "base_uri": "https://localhost:8080/"
        },
        "outputId": "5fd6b447-abb6-4bf6-f8bb-66b4b64ba954"
      },
      "source": [
        "## Try out your code here.\n",
        "#declaration of variable and its shape\n",
        "Z=np.array([\n",
        "    [32,60,96],\n",
        "    [13,20,13]        \n",
        "])\n",
        "Z.shape"
      ],
      "execution_count": null,
      "outputs": [
        {
          "output_type": "execute_result",
          "data": {
            "text/plain": [
              "(2, 3)"
            ]
          },
          "metadata": {},
          "execution_count": 181
        }
      ]
    },
    {
      "cell_type": "code",
      "metadata": {
        "colab": {
          "base_uri": "https://localhost:8080/"
        },
        "id": "m6NkJ8GlLjXS",
        "outputId": "5bb14dff-66c1-407e-aec6-9864cb54a5be"
      },
      "source": [
        "#declaration of transpose and its shape\n",
        "np.transpose(Z).shape"
      ],
      "execution_count": null,
      "outputs": [
        {
          "output_type": "execute_result",
          "data": {
            "text/plain": [
              "(3, 2)"
            ]
          },
          "metadata": {},
          "execution_count": 182
        }
      ]
    },
    {
      "cell_type": "code",
      "metadata": {
        "colab": {
          "base_uri": "https://localhost:8080/"
        },
        "id": "jJsTKo-bLphu",
        "outputId": "5f8dc25a-49e3-4dcb-8bcb-218922fe6784"
      },
      "source": [
        "#other way to describe shape of transpose\n",
        "Z.T.shape"
      ],
      "execution_count": null,
      "outputs": [
        {
          "output_type": "execute_result",
          "data": {
            "text/plain": [
              "(3, 2)"
            ]
          },
          "metadata": {},
          "execution_count": 183
        }
      ]
    },
    {
      "cell_type": "code",
      "metadata": {
        "colab": {
          "base_uri": "https://localhost:8080/"
        },
        "id": "Z3ZZVLBGLxeE",
        "outputId": "41f419be-ff79-4e69-ec90-9d85bf9f23ce"
      },
      "source": [
        "#transpose\n",
        "ZT = Z.T\n",
        "ZT"
      ],
      "execution_count": null,
      "outputs": [
        {
          "output_type": "execute_result",
          "data": {
            "text/plain": [
              "array([[32, 13],\n",
              "       [60, 20],\n",
              "       [96, 13]])"
            ]
          },
          "metadata": {},
          "execution_count": 184
        }
      ]
    },
    {
      "cell_type": "markdown",
      "metadata": {
        "id": "xkLTJ0fl5qAc"
      },
      "source": [
        "## Dot Product / Inner Product"
      ]
    },
    {
      "cell_type": "markdown",
      "metadata": {
        "id": "6kzi5rKI5qAd"
      },
      "source": [
        "If you recall the dot product from laboratory activity before, we will try to implement the same operation with matrices. In matrix dot product we are going to get the sum of products of the vectors by row-column pairs. So if we have two matrices $X$ and $Y$:\n",
        "\n",
        "$$X = \\begin{bmatrix}x_{(0,0)}&x_{(0,1)}\\\\ x_{(1,0)}&x_{(1,1)}\\end{bmatrix}, Y = \\begin{bmatrix}y_{(0,0)}&y_{(0,1)}\\\\ y_{(1,0)}&y_{(1,1)}\\end{bmatrix}$$\n",
        "\n",
        "The dot product will then be computed as:\n",
        "$$X \\cdot Y= \\begin{bmatrix} x_{(0,0)}*y_{(0,0)} + x_{(0,1)}*y_{(1,0)} & x_{(0,0)}*y_{(0,1)} + x_{(0,1)}*y_{(1,1)} \\\\  x_{(1,0)}*y_{(0,0)} + x_{(1,1)}*y_{(1,0)} & x_{(1,0)}*y_{(0,1)} + x_{(1,1)}*y_{(1,1)}\n",
        "\\end{bmatrix}$$\n",
        "\n",
        "So if we assign values to $X$ and $Y$:\n",
        "$$X = \\begin{bmatrix}1&2\\\\ 0&1\\end{bmatrix}, Y = \\begin{bmatrix}-1&0\\\\ 2&2\\end{bmatrix}$$"
      ]
    },
    {
      "cell_type": "markdown",
      "metadata": {
        "id": "JqxInb_P5qAd"
      },
      "source": [
        "$$X \\cdot Y= \\begin{bmatrix} 1*-1 + 2*2 & 1*0 + 2*2 \\\\  0*-1 + 1*2 & 0*0 + 1*2 \\end{bmatrix} = \\begin{bmatrix} 3 & 4 \\\\2 & 2 \\end{bmatrix}$$\n",
        "This could be achieved programmatically using `np.dot()`, `np.matmul()` or the `@` operator."
      ]
    },
    {
      "cell_type": "code",
      "metadata": {
        "id": "tcFdaGtG5qAd"
      },
      "source": [
        "#declaration of variables\n",
        "X = np.array([\n",
        "    [5,10,25],\n",
        "    [10,15,25],\n",
        "    [1,2,3]\n",
        "])\n",
        "Y = np.array([\n",
        "    [-12,20,21],\n",
        "    [24,27,30],\n",
        "    [10,20,30]\n",
        "])"
      ],
      "execution_count": null,
      "outputs": []
    },
    {
      "cell_type": "code",
      "metadata": {
        "colab": {
          "base_uri": "https://localhost:8080/"
        },
        "id": "U-s-XqsqXYn1",
        "outputId": "2ef6211a-f7cd-4784-e873-4d9eed4bbaca"
      },
      "source": [
        "#declaration of equality of variables\n",
        "np.array_equiv(X, Y)"
      ],
      "execution_count": null,
      "outputs": [
        {
          "output_type": "execute_result",
          "data": {
            "text/plain": [
              "False"
            ]
          },
          "metadata": {},
          "execution_count": 186
        }
      ]
    },
    {
      "cell_type": "code",
      "metadata": {
        "id": "RUczGxF85qAe",
        "colab": {
          "base_uri": "https://localhost:8080/"
        },
        "outputId": "3c7e845d-32f8-4ceb-92bb-1674263911eb"
      },
      "source": [
        "#dot product of variables\n",
        "np.dot(X,Y)"
      ],
      "execution_count": null,
      "outputs": [
        {
          "output_type": "execute_result",
          "data": {
            "text/plain": [
              "array([[ 430,  870, 1155],\n",
              "       [ 490, 1105, 1410],\n",
              "       [  66,  134,  171]])"
            ]
          },
          "metadata": {},
          "execution_count": 187
        }
      ]
    },
    {
      "cell_type": "code",
      "metadata": {
        "id": "q-mALRKb5qAe",
        "colab": {
          "base_uri": "https://localhost:8080/"
        },
        "outputId": "74e5164f-46ca-4894-c53f-acd00811bd82"
      },
      "source": [
        "#other way to show dot product\n",
        "X.dot(Y)"
      ],
      "execution_count": null,
      "outputs": [
        {
          "output_type": "execute_result",
          "data": {
            "text/plain": [
              "array([[ 430,  870, 1155],\n",
              "       [ 490, 1105, 1410],\n",
              "       [  66,  134,  171]])"
            ]
          },
          "metadata": {},
          "execution_count": 188
        }
      ]
    },
    {
      "cell_type": "code",
      "metadata": {
        "id": "ZTuRvubF5qAe",
        "colab": {
          "base_uri": "https://localhost:8080/"
        },
        "outputId": "722d8cb7-03cb-46a7-8567-180ce9b5dcae"
      },
      "source": [
        "#other way to show dot product\n",
        "X @ Y"
      ],
      "execution_count": null,
      "outputs": [
        {
          "output_type": "execute_result",
          "data": {
            "text/plain": [
              "array([[ 430,  870, 1155],\n",
              "       [ 490, 1105, 1410],\n",
              "       [  66,  134,  171]])"
            ]
          },
          "metadata": {},
          "execution_count": 189
        }
      ]
    },
    {
      "cell_type": "code",
      "metadata": {
        "id": "kKqFUIuC5qAe",
        "colab": {
          "base_uri": "https://localhost:8080/"
        },
        "outputId": "9b780c13-c6ab-4581-9ed1-1955be86eb3e"
      },
      "source": [
        "#other way to show dot product\n",
        "np.matmul(X,Y)"
      ],
      "execution_count": null,
      "outputs": [
        {
          "output_type": "execute_result",
          "data": {
            "text/plain": [
              "array([[ 430,  870, 1155],\n",
              "       [ 490, 1105, 1410],\n",
              "       [  66,  134,  171]])"
            ]
          },
          "metadata": {},
          "execution_count": 190
        }
      ]
    },
    {
      "cell_type": "code",
      "metadata": {
        "id": "Ty1dji7QOBUZ"
      },
      "source": [
        "#declaration of variables\n",
        "D = np.array([\n",
        "    [33,24,21],\n",
        "    [32,10,35],\n",
        "    [51,32,21]\n",
        "])\n",
        "E = np.array([\n",
        "    [-20,10,15],\n",
        "    [22,42,61],\n",
        "    [71,42,30]\n",
        "])"
      ],
      "execution_count": null,
      "outputs": []
    },
    {
      "cell_type": "code",
      "metadata": {
        "colab": {
          "base_uri": "https://localhost:8080/"
        },
        "id": "hx-ww5y9OHKU",
        "outputId": "ca3644b6-e610-49c6-8826-e28214e077c0"
      },
      "source": [
        "#dot product\n",
        "D @ E"
      ],
      "execution_count": null,
      "outputs": [
        {
          "output_type": "execute_result",
          "data": {
            "text/plain": [
              "array([[1359, 2220, 2589],\n",
              "       [2065, 2210, 2140],\n",
              "       [1175, 2736, 3347]])"
            ]
          },
          "metadata": {},
          "execution_count": 192
        }
      ]
    },
    {
      "cell_type": "code",
      "metadata": {
        "colab": {
          "base_uri": "https://localhost:8080/"
        },
        "id": "Z0gcf6UIOKMR",
        "outputId": "e7c3ee89-e4f1-48e6-e65b-ba252a5db313"
      },
      "source": [
        "#other way to show dot product\n",
        "D.dot(E)"
      ],
      "execution_count": null,
      "outputs": [
        {
          "output_type": "execute_result",
          "data": {
            "text/plain": [
              "array([[1359, 2220, 2589],\n",
              "       [2065, 2210, 2140],\n",
              "       [1175, 2736, 3347]])"
            ]
          },
          "metadata": {},
          "execution_count": 193
        }
      ]
    },
    {
      "cell_type": "code",
      "metadata": {
        "colab": {
          "base_uri": "https://localhost:8080/"
        },
        "id": "nklBm-huOM2S",
        "outputId": "5c2d6505-57f6-4201-973a-ca6bc285dc0b"
      },
      "source": [
        "#other way to show dot product\n",
        "np.matmul(D, E)"
      ],
      "execution_count": null,
      "outputs": [
        {
          "output_type": "execute_result",
          "data": {
            "text/plain": [
              "array([[1359, 2220, 2589],\n",
              "       [2065, 2210, 2140],\n",
              "       [1175, 2736, 3347]])"
            ]
          },
          "metadata": {},
          "execution_count": 194
        }
      ]
    },
    {
      "cell_type": "code",
      "metadata": {
        "colab": {
          "base_uri": "https://localhost:8080/"
        },
        "id": "lvjJit8FOQtr",
        "outputId": "88f90aac-a716-4f01-fdee-702954012a1f"
      },
      "source": [
        "#other way to show dot product\n",
        "np.dot(D, E)"
      ],
      "execution_count": null,
      "outputs": [
        {
          "output_type": "execute_result",
          "data": {
            "text/plain": [
              "array([[1359, 2220, 2589],\n",
              "       [2065, 2210, 2140],\n",
              "       [1175, 2736, 3347]])"
            ]
          },
          "metadata": {},
          "execution_count": 195
        }
      ]
    },
    {
      "cell_type": "markdown",
      "metadata": {
        "id": "tmcO-1oc5qAf"
      },
      "source": [
        "In matrix dot products there are additional rules compared with vector dot products. Since vector dot products were just in one dimension there are less restrictions. Since now we are dealing with Rank 2 vectors we need to consider some rules:\n",
        "\n",
        "### Rule 1: The inner dimensions of the two matrices in question must be the same. \n",
        "\n",
        "So given a matrix $A$ with a shape of $(a,b)$ where $a$ and $b$ are any integers. If we want to do a dot product between $A$ and another matrix $B$, then matrix $B$ should have a shape of $(b,c)$ where $b$ and $c$ are any integers. So for given the following matrices:\n",
        "\n",
        "$$A = \\begin{bmatrix}2&4\\\\5&-2\\\\0&1\\end{bmatrix}, B = \\begin{bmatrix}1&1\\\\3&3\\\\-1&-2\\end{bmatrix}, C = \\begin{bmatrix}0&1&1\\\\1&1&2\\end{bmatrix}$$\n",
        "\n",
        "So in this case $A$ has a shape of $(3,2)$, $B$ has a shape of $(3,2)$ and $C$ has a shape of $(2,3)$. So the only matrix pairs that is eligible to perform dot product is matrices $A \\cdot C$, or $B \\cdot C$.  "
      ]
    },
    {
      "cell_type": "code",
      "metadata": {
        "colab": {
          "base_uri": "https://localhost:8080/"
        },
        "id": "BHg0ldDB5qAf",
        "outputId": "1e2afece-7743-4498-9778-e7b16d252df9"
      },
      "source": [
        "#declaration of variables and their shapes\n",
        "I = np.array([\n",
        "    [21, 40],\n",
        "    [15, -21],\n",
        "    [10, 12]\n",
        "])\n",
        "G = np.array([\n",
        "    [12,15],\n",
        "    [13,31],\n",
        "    [-12,-23]\n",
        "])\n",
        "N = np.array([\n",
        "    [20,15,13],\n",
        "    [10,15,21]\n",
        "])\n",
        "print(I.shape)\n",
        "print(G.shape)\n",
        "print(N.shape)"
      ],
      "execution_count": null,
      "outputs": [
        {
          "output_type": "stream",
          "name": "stdout",
          "text": [
            "(3, 2)\n",
            "(3, 2)\n",
            "(2, 3)\n"
          ]
        }
      ]
    },
    {
      "cell_type": "code",
      "metadata": {
        "colab": {
          "base_uri": "https://localhost:8080/"
        },
        "id": "v5A58bku5qAg",
        "outputId": "e335350d-0483-4d21-9f76-245cbcd1b86c"
      },
      "source": [
        "#dot product\n",
        "I @ N"
      ],
      "execution_count": null,
      "outputs": [
        {
          "output_type": "execute_result",
          "data": {
            "text/plain": [
              "array([[ 820,  915, 1113],\n",
              "       [  90,  -90, -246],\n",
              "       [ 320,  330,  382]])"
            ]
          },
          "metadata": {},
          "execution_count": 197
        }
      ]
    },
    {
      "cell_type": "code",
      "metadata": {
        "id": "XpFBfYcr5qAg",
        "colab": {
          "base_uri": "https://localhost:8080/"
        },
        "outputId": "077dbc95-da94-4f10-fe9c-ffed4d0c6b42"
      },
      "source": [
        "#other way to show dot product\n",
        "G @ N"
      ],
      "execution_count": null,
      "outputs": [
        {
          "output_type": "execute_result",
          "data": {
            "text/plain": [
              "array([[ 390,  405,  471],\n",
              "       [ 570,  660,  820],\n",
              "       [-470, -525, -639]])"
            ]
          },
          "metadata": {},
          "execution_count": 198
        }
      ]
    },
    {
      "cell_type": "markdown",
      "metadata": {
        "id": "xrKDcZQu5qAg"
      },
      "source": [
        "If you would notice the shape of the dot product changed and its shape is not the same as any of the matrices we used. The shape of a dot product is actually derived from the shapes of the matrices used. So recall matrix $A$ with a shape of $(a,b)$ and matrix $B$ with a shape of $(b,c)$, $A \\cdot B$ should have a shape $(a,c)$."
      ]
    },
    {
      "cell_type": "code",
      "metadata": {
        "colab": {
          "base_uri": "https://localhost:8080/"
        },
        "id": "GV5OX8Yq5qAg",
        "outputId": "9d68802a-6bb0-4911-cc7d-09b225a380c2"
      },
      "source": [
        "#other way to show dot product\n",
        "I @ G.T"
      ],
      "execution_count": null,
      "outputs": [
        {
          "output_type": "execute_result",
          "data": {
            "text/plain": [
              "array([[  852,  1513, -1172],\n",
              "       [ -135,  -456,   303],\n",
              "       [  300,   502,  -396]])"
            ]
          },
          "metadata": {},
          "execution_count": 199
        }
      ]
    },
    {
      "cell_type": "code",
      "source": [
        "#other way to show dot product\n",
        "G @ I.T"
      ],
      "metadata": {
        "colab": {
          "base_uri": "https://localhost:8080/"
        },
        "id": "ZS61GqAec03s",
        "outputId": "55c66142-2011-4c67-dcef-aa565dcfc80a"
      },
      "execution_count": null,
      "outputs": [
        {
          "output_type": "execute_result",
          "data": {
            "text/plain": [
              "array([[  852,  -135,   300],\n",
              "       [ 1513,  -456,   502],\n",
              "       [-1172,   303,  -396]])"
            ]
          },
          "metadata": {},
          "execution_count": 200
        }
      ]
    },
    {
      "cell_type": "code",
      "metadata": {
        "colab": {
          "base_uri": "https://localhost:8080/"
        },
        "id": "3lB2SJC45qAi",
        "outputId": "6661042c-11da-41af-8125-831500986ecc"
      },
      "source": [
        "#declaration of variables and their shape\n",
        "sam1 = np.array([\n",
        "    [12,21,33,20]\n",
        "])\n",
        "sam2 = np.array([\n",
        "    [11,20,42,-10]\n",
        "])\n",
        "print(sam1.shape)\n",
        "print(sam2.shape)"
      ],
      "execution_count": null,
      "outputs": [
        {
          "output_type": "stream",
          "name": "stdout",
          "text": [
            "(1, 4)\n",
            "(1, 4)\n"
          ]
        }
      ]
    },
    {
      "cell_type": "code",
      "metadata": {
        "colab": {
          "base_uri": "https://localhost:8080/"
        },
        "id": "6wmNHDiG5qAi",
        "outputId": "245d894a-005f-4b18-d898-909eab77eadd"
      },
      "source": [
        "#transpose dot variable\n",
        "sam2.T @ sam1"
      ],
      "execution_count": null,
      "outputs": [
        {
          "output_type": "execute_result",
          "data": {
            "text/plain": [
              "array([[ 132,  231,  363,  220],\n",
              "       [ 240,  420,  660,  400],\n",
              "       [ 504,  882, 1386,  840],\n",
              "       [-120, -210, -330, -200]])"
            ]
          },
          "metadata": {},
          "execution_count": 202
        }
      ]
    },
    {
      "cell_type": "code",
      "metadata": {
        "colab": {
          "base_uri": "https://localhost:8080/"
        },
        "id": "56reEXdeRXjl",
        "outputId": "73c17cc5-dc4e-4ce6-f09b-f36f1fd8896f"
      },
      "source": [
        "#variable dot transpose\n",
        "sam1 @ sam2.T"
      ],
      "execution_count": null,
      "outputs": [
        {
          "output_type": "execute_result",
          "data": {
            "text/plain": [
              "array([[1738]])"
            ]
          },
          "metadata": {},
          "execution_count": 203
        }
      ]
    },
    {
      "cell_type": "markdown",
      "metadata": {
        "id": "eeaqcqWN5qAi"
      },
      "source": [
        "And you can see that when you try to multiply A and B, it returns `ValueError` pertaining to matrix shape mismatch."
      ]
    },
    {
      "cell_type": "markdown",
      "metadata": {
        "id": "4LuGMTDV5qAi"
      },
      "source": [
        "### Rule 2: Dot Product has special properties\n",
        "\n",
        "Dot products are prevalent in matrix algebra, this implies that it has several unique properties and it should be considered when formulation solutions:\n",
        " 1. $A \\cdot B \\neq B \\cdot A$\n",
        " 2. $A \\cdot (B \\cdot C) = (A \\cdot B) \\cdot C$\n",
        " 3. $A\\cdot(B+C) = A\\cdot B + A\\cdot C$\n",
        " 4. $(B+C)\\cdot A = B\\cdot A + C\\cdot A$\n",
        " 5. $A\\cdot I = A$\n",
        " 6. $A\\cdot \\emptyset = \\emptyset$ "
      ]
    },
    {
      "cell_type": "markdown",
      "metadata": {
        "id": "1Q88K3zL5qAi"
      },
      "source": [
        "I'll be doing just one of the properties and I'll leave the rest to test your skills!"
      ]
    },
    {
      "cell_type": "code",
      "metadata": {
        "id": "NIuJS5DD5qAj"
      },
      "source": [
        "#declaration of variables\n",
        "Apple = np.array([\n",
        "    [12,21,15],\n",
        "    [40,51,12],\n",
        "    [15,18,21]\n",
        "])\n",
        "Bat = np.array([\n",
        "    [42,15,60],\n",
        "    [41,10,19],\n",
        "    [21,14,28]\n",
        "])\n",
        "Cat = np.array([\n",
        "    [21,31,40],\n",
        "    [10,11,11],\n",
        "    [11,10,11]\n",
        "])"
      ],
      "execution_count": null,
      "outputs": []
    },
    {
      "cell_type": "code",
      "metadata": {
        "colab": {
          "base_uri": "https://localhost:8080/"
        },
        "id": "rMKQRQiGXqIO",
        "outputId": "7919af96-6684-4013-af20-7f973cde13a7"
      },
      "source": [
        "#declaration of identity matrix\n",
        "np.eye(3)"
      ],
      "execution_count": null,
      "outputs": [
        {
          "output_type": "execute_result",
          "data": {
            "text/plain": [
              "array([[1., 0., 0.],\n",
              "       [0., 1., 0.],\n",
              "       [0., 0., 1.]])"
            ]
          },
          "metadata": {},
          "execution_count": 205
        }
      ]
    },
    {
      "cell_type": "code",
      "metadata": {
        "colab": {
          "base_uri": "https://localhost:8080/"
        },
        "id": "C-jC2s9zX5lr",
        "outputId": "ad33712d-7cb0-4c36-e34c-12cba43b3eaa"
      },
      "source": [
        "#dot product of variable and identity matrix (property 5)\n",
        "Apple.dot(np.eye(3))"
      ],
      "execution_count": null,
      "outputs": [
        {
          "output_type": "execute_result",
          "data": {
            "text/plain": [
              "array([[12., 21., 15.],\n",
              "       [40., 51., 12.],\n",
              "       [15., 18., 21.]])"
            ]
          },
          "metadata": {},
          "execution_count": 206
        }
      ]
    },
    {
      "cell_type": "code",
      "metadata": {
        "colab": {
          "base_uri": "https://localhost:8080/"
        },
        "id": "odT_OJP3TZ4w",
        "outputId": "ef57a7c6-ef20-496f-a266-b4dcf8325f34"
      },
      "source": [
        "#proving property 1\n",
        "np.array_equal(Apple@Bat, Bat@Apple)"
      ],
      "execution_count": null,
      "outputs": [
        {
          "output_type": "execute_result",
          "data": {
            "text/plain": [
              "False"
            ]
          },
          "metadata": {},
          "execution_count": 207
        }
      ]
    },
    {
      "cell_type": "code",
      "metadata": {
        "colab": {
          "base_uri": "https://localhost:8080/"
        },
        "id": "tiDdHhxcWgVM",
        "outputId": "63358877-2e3e-404f-984f-0ae034664e8d"
      },
      "source": [
        "#declaration of variable Eat\n",
        "Eat = Apple @ (Bat @ Cat)\n",
        "Eat"
      ],
      "execution_count": null,
      "outputs": [
        {
          "output_type": "execute_result",
          "data": {
            "text/plain": [
              "array([[ 58209,  74070,  90729],\n",
              "       [138018, 175821, 215733],\n",
              "       [ 65109,  82068, 100179]])"
            ]
          },
          "metadata": {},
          "execution_count": 208
        }
      ]
    },
    {
      "cell_type": "code",
      "metadata": {
        "colab": {
          "base_uri": "https://localhost:8080/"
        },
        "id": "ExZZG4eZWpAl",
        "outputId": "181b5629-47fd-4146-9da8-bd6cec4e62da"
      },
      "source": [
        "#declaration of variable Fat\n",
        "Fat = (Apple @ Bat) @ Cat\n",
        "Fat"
      ],
      "execution_count": null,
      "outputs": [
        {
          "output_type": "execute_result",
          "data": {
            "text/plain": [
              "array([[ 58209,  74070,  90729],\n",
              "       [138018, 175821, 215733],\n",
              "       [ 65109,  82068, 100179]])"
            ]
          },
          "metadata": {},
          "execution_count": 209
        }
      ]
    },
    {
      "cell_type": "code",
      "metadata": {
        "colab": {
          "base_uri": "https://localhost:8080/"
        },
        "id": "UfXEP6q-W5yL",
        "outputId": "34ebd77f-995b-466e-ac0c-e1c1a17c3897"
      },
      "source": [
        "#stating equality of two variables\n",
        "np.array_equal(Eat, sam1)"
      ],
      "execution_count": null,
      "outputs": [
        {
          "output_type": "execute_result",
          "data": {
            "text/plain": [
              "False"
            ]
          },
          "metadata": {},
          "execution_count": 210
        }
      ]
    },
    {
      "cell_type": "code",
      "metadata": {
        "colab": {
          "base_uri": "https://localhost:8080/"
        },
        "id": "FJnDxAlTWud1",
        "outputId": "502e0feb-1a7d-4f34-9207-2b3a0858d350"
      },
      "source": [
        "#stating equivalence of two variables (property 2)\n",
        "np.array_equiv(Eat, Fat)"
      ],
      "execution_count": null,
      "outputs": [
        {
          "output_type": "execute_result",
          "data": {
            "text/plain": [
              "True"
            ]
          },
          "metadata": {},
          "execution_count": 211
        }
      ]
    },
    {
      "cell_type": "code",
      "metadata": {
        "id": "SFOQkxtHWuVg",
        "colab": {
          "base_uri": "https://localhost:8080/"
        },
        "outputId": "c872d5b9-93a1-4d68-8194-63f581b864c7"
      },
      "source": [
        "#Property 3\n",
        "prop31 = Apple @ (Bat+Cat)\n",
        "prop32 = (Apple@Bat)+(Apple@Cat)\n",
        "np.array_equiv(prop31, prop32)"
      ],
      "execution_count": null,
      "outputs": [
        {
          "output_type": "execute_result",
          "data": {
            "text/plain": [
              "True"
            ]
          },
          "metadata": {},
          "execution_count": 212
        }
      ]
    },
    {
      "cell_type": "code",
      "source": [
        "#Property 4\n",
        "prop41 = (Bat+Cat) @ Apple\n",
        "prop42 = (Bat@Apple)+(Cat@Apple)\n",
        "np.array_equiv(prop41, prop42)"
      ],
      "metadata": {
        "colab": {
          "base_uri": "https://localhost:8080/"
        },
        "id": "HuREIzY7hgEK",
        "outputId": "74985847-3936-49d1-9456-2bdcf6b16ad7"
      },
      "execution_count": null,
      "outputs": [
        {
          "output_type": "execute_result",
          "data": {
            "text/plain": [
              "True"
            ]
          },
          "metadata": {},
          "execution_count": 213
        }
      ]
    },
    {
      "cell_type": "code",
      "source": [
        "#Property 6\n",
        "null_mat3 = np.empty(Apple.shape, dtype=float)\n",
        "null3 = np.array(null_mat3, dtype=float)\n",
        "Applenull = (Apple @ null3)\n",
        "np.array_equiv(Applenull, null3)"
      ],
      "metadata": {
        "colab": {
          "base_uri": "https://localhost:8080/"
        },
        "id": "rADrV1tbhiSk",
        "outputId": "53139eee-a5db-489a-b8a1-b7b68cb46e5a"
      },
      "execution_count": null,
      "outputs": [
        {
          "output_type": "execute_result",
          "data": {
            "text/plain": [
              "False"
            ]
          },
          "metadata": {},
          "execution_count": 245
        }
      ]
    },
    {
      "cell_type": "code",
      "metadata": {
        "colab": {
          "base_uri": "https://localhost:8080/"
        },
        "id": "HUwRJACI5qAj",
        "outputId": "68b0569a-a0d3-4a2b-df7e-6328295d2709"
      },
      "source": [
        "#identity matrix\n",
        "np.eye(10)"
      ],
      "execution_count": null,
      "outputs": [
        {
          "output_type": "execute_result",
          "data": {
            "text/plain": [
              "array([[1., 0., 0., 0., 0., 0., 0., 0., 0., 0.],\n",
              "       [0., 1., 0., 0., 0., 0., 0., 0., 0., 0.],\n",
              "       [0., 0., 1., 0., 0., 0., 0., 0., 0., 0.],\n",
              "       [0., 0., 0., 1., 0., 0., 0., 0., 0., 0.],\n",
              "       [0., 0., 0., 0., 1., 0., 0., 0., 0., 0.],\n",
              "       [0., 0., 0., 0., 0., 1., 0., 0., 0., 0.],\n",
              "       [0., 0., 0., 0., 0., 0., 1., 0., 0., 0.],\n",
              "       [0., 0., 0., 0., 0., 0., 0., 1., 0., 0.],\n",
              "       [0., 0., 0., 0., 0., 0., 0., 0., 1., 0.],\n",
              "       [0., 0., 0., 0., 0., 0., 0., 0., 0., 1.]])"
            ]
          },
          "metadata": {},
          "execution_count": 215
        }
      ]
    },
    {
      "cell_type": "code",
      "metadata": {
        "id": "R2xJmFlUVlbb",
        "colab": {
          "base_uri": "https://localhost:8080/"
        },
        "outputId": "f70683af-d720-4f45-ad9f-818c798a55fe"
      },
      "source": [
        "#dot product\n",
        "Apple @ Eat"
      ],
      "execution_count": null,
      "outputs": [
        {
          "output_type": "execute_result",
          "data": {
            "text/plain": [
              "array([[ 4573521,  5812101,  7121826],\n",
              "       [10148586, 12914487, 15833691],\n",
              "       [ 4724748,  5999256,  7347888]])"
            ]
          },
          "metadata": {},
          "execution_count": 216
        }
      ]
    },
    {
      "cell_type": "code",
      "metadata": {
        "id": "UhgjprXt5qAj",
        "colab": {
          "base_uri": "https://localhost:8080/"
        },
        "outputId": "37d8d188-f64d-452a-cf92-d64486be2673"
      },
      "source": [
        "#zeroes matrix\n",
        "Zero = np.zeros(Apple.shape)\n",
        "Zero"
      ],
      "execution_count": null,
      "outputs": [
        {
          "output_type": "execute_result",
          "data": {
            "text/plain": [
              "array([[0., 0., 0.],\n",
              "       [0., 0., 0.],\n",
              "       [0., 0., 0.]])"
            ]
          },
          "metadata": {},
          "execution_count": 217
        }
      ]
    },
    {
      "cell_type": "code",
      "metadata": {
        "id": "Y88CuKNy5qAj",
        "colab": {
          "base_uri": "https://localhost:8080/"
        },
        "outputId": "af02f783-342b-48b5-d6ec-ea05b506890d"
      },
      "source": [
        "#dot product of variable and zero matrix\n",
        "Apple_dot_Zero = Apple.dot(np.zeros(Apple.shape))\n",
        "Apple_dot_Zero"
      ],
      "execution_count": null,
      "outputs": [
        {
          "output_type": "execute_result",
          "data": {
            "text/plain": [
              "array([[0., 0., 0.],\n",
              "       [0., 0., 0.],\n",
              "       [0., 0., 0.]])"
            ]
          },
          "metadata": {},
          "execution_count": 218
        }
      ]
    },
    {
      "cell_type": "code",
      "metadata": {
        "id": "7gLbl0xi5qAj",
        "colab": {
          "base_uri": "https://localhost:8080/"
        },
        "outputId": "ec72badb-4e4a-4086-f82b-89f5bde299ab"
      },
      "source": [
        "#stating equality of dot product of variable and zero matrix and, zero matrix\n",
        "np.array_equal(Apple_dot_Zero,Zero)"
      ],
      "execution_count": null,
      "outputs": [
        {
          "output_type": "execute_result",
          "data": {
            "text/plain": [
              "True"
            ]
          },
          "metadata": {},
          "execution_count": 219
        }
      ]
    },
    {
      "cell_type": "code",
      "metadata": {
        "id": "O-BVE7BT5qAj",
        "colab": {
          "base_uri": "https://localhost:8080/"
        },
        "outputId": "09335542-08ea-41fe-f207-90af3e98cda1"
      },
      "source": [
        "#null matrix\n",
        "null_mat = np.empty(Apple.shape, dtype=float)\n",
        "null = np.array(null_mat,dtype=float)\n",
        "print(null)\n",
        "np.allclose(Apple_dot_Zero,null)"
      ],
      "execution_count": null,
      "outputs": [
        {
          "output_type": "stream",
          "name": "stdout",
          "text": [
            "[[0. 0. 0.]\n",
            " [0. 0. 0.]\n",
            " [0. 0. 0.]]\n"
          ]
        },
        {
          "output_type": "execute_result",
          "data": {
            "text/plain": [
              "True"
            ]
          },
          "metadata": {},
          "execution_count": 220
        }
      ]
    },
    {
      "cell_type": "markdown",
      "metadata": {
        "id": "meSNX76X5qAk"
      },
      "source": [
        "## Determinant"
      ]
    },
    {
      "cell_type": "markdown",
      "metadata": {
        "id": "usidzlzW5qAk"
      },
      "source": [
        "A determinant is a scalar value derived from a square matrix. The determinant is a fundamental and important value used in matrix algebra. Although it will not be evident in this laboratory on how it can be used practically, but it will be greatly used in future lessons.\n",
        "\n",
        "The determinant of some matrix $A$ is denoted as $det(A)$ or $|A|$. So let's say $A$ is represented as:\n",
        "$$A = \\begin{bmatrix}a_{(0,0)}&a_{(0,1)}\\\\a_{(1,0)}&a_{(1,1)}\\end{bmatrix}$$\n",
        "We can compute for the determinant as:\n",
        "$$|A| = a_{(0,0)}*a_{(1,1)} - a_{(1,0)}*a_{(0,1)}$$\n",
        "So if we have $A$ as:\n",
        "$$A = \\begin{bmatrix}1&4\\\\0&3\\end{bmatrix}, |A| = 3$$\n",
        "\n",
        "But you might wonder how about square matrices beyond the shape $(2,2)$? We can approach this problem by using several methods such as co-factor expansion and the minors method. This can be taught in the lecture of the laboratory but we can achieve the strenuous computation of high-dimensional matrices programmatically using Python. We can achieve this by using `np.linalg.det()`."
      ]
    },
    {
      "cell_type": "code",
      "metadata": {
        "id": "UXIlruLY5qAk",
        "outputId": "b53006e2-2b13-421f-901d-55f4ccf4e863",
        "colab": {
          "base_uri": "https://localhost:8080/"
        }
      },
      "source": [
        "#declaration of variable and its determinant\n",
        "Gamma = np.array([\n",
        "    [13,40],\n",
        "    [10,30]\n",
        "])\n",
        "np.linalg.det(Gamma)"
      ],
      "execution_count": null,
      "outputs": [
        {
          "output_type": "execute_result",
          "data": {
            "text/plain": [
              "-10.00000000000001"
            ]
          },
          "metadata": {},
          "execution_count": 221
        }
      ]
    },
    {
      "cell_type": "code",
      "metadata": {
        "colab": {
          "base_uri": "https://localhost:8080/"
        },
        "id": "sRPD8UryYoTd",
        "outputId": "65aae1cf-5844-456a-8430-0bab0d848a3f"
      },
      "source": [
        "#declaration of variable and its determinant\n",
        "Beta = np.array([\n",
        "              [12, 51, 21],\n",
        "              [36, -12 ,-15],\n",
        "              [30, -21, 18]\n",
        "])\n",
        "np.linalg.det(Beta)"
      ],
      "execution_count": null,
      "outputs": [
        {
          "output_type": "execute_result",
          "data": {
            "text/plain": [
              "-70685.99999999997"
            ]
          },
          "metadata": {},
          "execution_count": 222
        }
      ]
    },
    {
      "cell_type": "code",
      "metadata": {
        "id": "-H6sOqcu5qAk",
        "colab": {
          "base_uri": "https://localhost:8080/"
        },
        "outputId": "6cdca9fa-61ef-4c11-bcde-72eb031b6f72"
      },
      "source": [
        "## Now other mathematics classes would require you to solve this by hand, \n",
        "## and that is great for practicing your memorization and coordination skills \n",
        "## but in this class we aim for simplicity and speed so we'll use programming\n",
        "## but it's completely fine if you want to try to solve this one by hand.\n",
        "Highway = np.array([\n",
        "    [10,51,23,19],\n",
        "    [10,10,13,10],\n",
        "    [20,0,0,0],\n",
        "    [4,1,10,28]\n",
        "])\n",
        "np.linalg.det(Highway)"
      ],
      "execution_count": null,
      "outputs": [
        {
          "output_type": "execute_result",
          "data": {
            "text/plain": [
              "178139.99999999985"
            ]
          },
          "metadata": {},
          "execution_count": 223
        }
      ]
    },
    {
      "cell_type": "markdown",
      "metadata": {
        "id": "YgnCzR5i5qAk"
      },
      "source": [
        "## Inverse"
      ]
    },
    {
      "cell_type": "markdown",
      "metadata": {
        "id": "NyZt93mR5qAk"
      },
      "source": [
        "The inverse of a matrix is another fundamental operation in matrix algebra. Determining the inverse of a matrix let us determine if its solvability and its characteristic as a system of linear equation — we'll expand on this in the nect module. Another use of the inverse matrix is solving the problem of divisibility between matrices. Although element-wise division exists but dividing the entire concept of matrices does not exists. Inverse matrices provides a related operation that could have the same concept of \"dividing\" matrices.\n",
        "\n",
        "Now to determine the inverse of a matrix we need to perform several steps. So let's say we have a matrix $M$:\n",
        "$$M = \\begin{bmatrix}1&7\\\\-3&5\\end{bmatrix}$$\n",
        "First, we need to get the determinant of $M$.\n",
        "$$|M| = (1)(5)-(-3)(7) = 26$$\n",
        "Next, we need to reform the matrix into the inverse form:\n",
        "$$M^{-1} = \\frac{1}{|M|} \\begin{bmatrix} m_{(1,1)} & -m_{(0,1)} \\\\ -m_{(1,0)} & m_{(0,0)}\\end{bmatrix}$$\n",
        "So that will be:\n",
        "$$M^{-1} = \\frac{1}{26} \\begin{bmatrix} 5 & -7 \\\\ 3 & 1\\end{bmatrix} = \\begin{bmatrix} \\frac{5}{26} & \\frac{-7}{26} \\\\ \\frac{3}{26} & \\frac{1}{26}\\end{bmatrix}$$\n",
        "For higher-dimension matrices you might need to use co-factors, minors, adjugates, and other reduction techinques. To solve this programmatially we can use `np.linalg.inv()`."
      ]
    },
    {
      "cell_type": "code",
      "metadata": {
        "id": "6o_tzKcx5qAl",
        "colab": {
          "base_uri": "https://localhost:8080/"
        },
        "outputId": "d291989c-049f-421a-ed38-4ec489095caa"
      },
      "source": [
        "#declaration of variable and dot product of inverse and variable\n",
        "Indigo = np.array([\n",
        "    [12,71],\n",
        "    [-30, 15]\n",
        "])\n",
        "\n",
        "np.array(Indigo @ np.linalg.inv(Indigo), dtype=int)"
      ],
      "execution_count": null,
      "outputs": [
        {
          "output_type": "execute_result",
          "data": {
            "text/plain": [
              "array([[1, 0],\n",
              "       [0, 1]])"
            ]
          },
          "metadata": {},
          "execution_count": 224
        }
      ]
    },
    {
      "cell_type": "code",
      "metadata": {
        "colab": {
          "base_uri": "https://localhost:8080/"
        },
        "id": "crpht7JFZ1gU",
        "outputId": "0f1d440e-2423-49f5-e274-d8ac540f4c05"
      },
      "source": [
        "#declaration of variables and its inverse\n",
        "Jacket = np.array([\n",
        "              [16, 19, 10],\n",
        "              [14, 12, -11],\n",
        "              [13, 16, 17]\n",
        "])\n",
        "Kangaroo = np.linalg.inv(Jacket)\n",
        "Kangaroo"
      ],
      "execution_count": null,
      "outputs": [
        {
          "output_type": "execute_result",
          "data": {
            "text/plain": [
              "array([[-0.79331942,  0.34029228,  0.6868476 ],\n",
              "       [ 0.7954071 , -0.29645094, -0.65970772],\n",
              "       [-0.14196242,  0.01878914,  0.15448852]])"
            ]
          },
          "metadata": {},
          "execution_count": 225
        }
      ]
    },
    {
      "cell_type": "code",
      "metadata": {
        "colab": {
          "base_uri": "https://localhost:8080/"
        },
        "id": "5hMKCRpzaIf0",
        "outputId": "6b57ab8b-8c34-455c-f19c-bc1ad32cb3a5"
      },
      "source": [
        "#dot product of variable and its inverse\n",
        "Jacket @ Kangaroo"
      ],
      "execution_count": null,
      "outputs": [
        {
          "output_type": "execute_result",
          "data": {
            "text/plain": [
              "array([[ 1.00000000e+00, -3.05311332e-16, -3.88578059e-16],\n",
              "       [-9.43689571e-16,  1.00000000e+00,  9.15933995e-16],\n",
              "       [-2.05391260e-15, -6.93889390e-17,  1.00000000e+00]])"
            ]
          },
          "metadata": {},
          "execution_count": 226
        }
      ]
    },
    {
      "cell_type": "code",
      "metadata": {
        "id": "67IPZoJM5qAl",
        "colab": {
          "base_uri": "https://localhost:8080/"
        },
        "outputId": "efa4f854-ace1-4dc0-c3c3-bb95411c6520"
      },
      "source": [
        "## And now let's test your skills in solving a matrix with high dimensions:\n",
        "Lamda = np.array([\n",
        "    [18,15,13,11,0,23,15],\n",
        "    [0,5,0,1,12,0,0],\n",
        "    [52,19,0,0,0,0,0],\n",
        "    [2,1,1,1,1,1,1],\n",
        "    [0,0,0,1,4,3,2],\n",
        "    [-4,5,0,0,0,1,-3],\n",
        "    [-3,-1,2,0,11,0,0],\n",
        "])\n",
        "Lamda_inv = np.linalg.inv(Lamda)\n",
        "np.array(Lamda @ Lamda_inv,dtype=int)"
      ],
      "execution_count": null,
      "outputs": [
        {
          "output_type": "execute_result",
          "data": {
            "text/plain": [
              "array([[1, 0, 0, 0, 0, 0, 0],\n",
              "       [0, 0, 0, 0, 0, 0, 0],\n",
              "       [0, 0, 1, 0, 0, 0, 0],\n",
              "       [0, 0, 0, 1, 0, 0, 0],\n",
              "       [0, 0, 0, 0, 0, 0, 0],\n",
              "       [0, 0, 0, 0, 0, 1, 0],\n",
              "       [0, 0, 0, 0, 0, 0, 1]])"
            ]
          },
          "metadata": {},
          "execution_count": 227
        }
      ]
    },
    {
      "cell_type": "markdown",
      "metadata": {
        "id": "v3tMlBTN5qAl"
      },
      "source": [
        "To validate the whether if the matric that you have solved is really the inverse, we follow this dot product property for a matrix $M$:\n",
        "$$M\\cdot M^{-1} = I$$"
      ]
    },
    {
      "cell_type": "code",
      "metadata": {
        "id": "UPMGu4cQ5qAm",
        "colab": {
          "base_uri": "https://localhost:8080/"
        },
        "outputId": "ae707696-b6e6-4101-df46-d9018d809ca7"
      },
      "source": [
        "#declaration of variables\n",
        "squad = np.array([\n",
        "    [1.25, 1.25, 1.0],\n",
        "    [1.5, 1.5, 1.0],\n",
        "    [1.25, 1.25, 1.0]\n",
        "])\n",
        "weights = np.array([\n",
        "    [2.0, 2.0, 3.0]\n",
        "])\n",
        "p_grade = squad @ weights.T\n",
        "p_grade\n"
      ],
      "execution_count": null,
      "outputs": [
        {
          "output_type": "execute_result",
          "data": {
            "text/plain": [
              "array([[8.],\n",
              "       [9.],\n",
              "       [8.]])"
            ]
          },
          "metadata": {},
          "execution_count": 228
        }
      ]
    },
    {
      "cell_type": "markdown",
      "metadata": {
        "id": "hlP1zGsC5qAm"
      },
      "source": [
        "## Activity"
      ]
    },
    {
      "cell_type": "markdown",
      "metadata": {
        "id": "HpB1u3t05qAm"
      },
      "source": [
        "### Task 1"
      ]
    },
    {
      "cell_type": "markdown",
      "metadata": {
        "id": "RHhAZ_IM5qAm"
      },
      "source": [
        "Prove and implement the remaining 6 matrix multiplication properties. You may create your own matrices in which their shapes should not be lower than $(3,3)$.\n",
        "In your methodology, create individual flowcharts for each property and discuss the property you would then present your proofs or validity of your implementation in the results section by comparing your result to present functions from NumPy."
      ]
    },
    {
      "cell_type": "code",
      "metadata": {
        "id": "S0RNScmO5qAn"
      },
      "source": [
        "#declaration of variables\n",
        "mat1 = np.array([\n",
        "                [3,2,1],\n",
        "                [2,4,6],\n",
        "                [5,4,3]\n",
        "])\n",
        "\n",
        "mat2 = np.array([\n",
        "                [2,1,0],\n",
        "                [22,11,10],\n",
        "                [2,3,4]\n",
        "])\n",
        "\n",
        "mat3 = np.array([\n",
        "                [1,2,3],\n",
        "                [5,6,7],\n",
        "                [13,14,15]\n",
        "])\n",
        "\n",
        "iden = np.eye(3)\n",
        "\n",
        "null_mat2 = np.empty(mat1.shape, dtype=float)\n",
        "null2 = np.array(null_mat2,dtype=float)\n"
      ],
      "execution_count": null,
      "outputs": []
    },
    {
      "cell_type": "code",
      "metadata": {
        "id": "RLPgIfWf5qAn",
        "colab": {
          "base_uri": "https://localhost:8080/"
        },
        "outputId": "9703c497-89ae-449e-c6dc-d5b2ef023662"
      },
      "source": [
        "#property 1\n",
        "mul1 = mat1@mat2\n",
        "mul2 = mat2@mat1\n",
        "np.array_equal(mul1, mul2)"
      ],
      "execution_count": null,
      "outputs": [
        {
          "output_type": "execute_result",
          "data": {
            "text/plain": [
              "False"
            ]
          },
          "metadata": {},
          "execution_count": 230
        }
      ]
    },
    {
      "cell_type": "code",
      "metadata": {
        "id": "MbEUgX265qAn",
        "colab": {
          "base_uri": "https://localhost:8080/"
        },
        "outputId": "3bd8c814-76c4-4cd3-9da3-46a54d0667bf"
      },
      "source": [
        "#property 2\n",
        "dot1 = mat1 @ (mat2 @ mat3)\n",
        "dot2 = (mat1 @ mat2) @ mat3\n",
        "np.array_equiv(dot1, dot2)"
      ],
      "execution_count": null,
      "outputs": [
        {
          "output_type": "execute_result",
          "data": {
            "text/plain": [
              "True"
            ]
          },
          "metadata": {},
          "execution_count": 231
        }
      ]
    },
    {
      "cell_type": "code",
      "metadata": {
        "id": "fRNEo0kG5qAn",
        "colab": {
          "base_uri": "https://localhost:8080/"
        },
        "outputId": "04a26c59-2a5e-4c1d-b65b-ee2ae6b178b9"
      },
      "source": [
        "#property 3\n",
        "dotadd1 = mat1 @ (mat2+mat3)\n",
        "dotadd2 = (mat1@mat2)+(mat1@mat3)\n",
        "np.array_equiv(dotadd1, dotadd2)"
      ],
      "execution_count": null,
      "outputs": [
        {
          "output_type": "execute_result",
          "data": {
            "text/plain": [
              "True"
            ]
          },
          "metadata": {},
          "execution_count": 232
        }
      ]
    },
    {
      "cell_type": "code",
      "metadata": {
        "id": "q1MRaCin5qAn",
        "colab": {
          "base_uri": "https://localhost:8080/"
        },
        "outputId": "0aeac507-c8b6-49bc-e4c3-42082a3b39fb"
      },
      "source": [
        "#property 4\n",
        "dotadd3 = (mat2+mat3) @ mat1\n",
        "dotadd4 = (mat2@mat1)+(mat3@mat1)\n",
        "np.array_equiv(dotadd3, dotadd4)"
      ],
      "execution_count": null,
      "outputs": [
        {
          "output_type": "execute_result",
          "data": {
            "text/plain": [
              "True"
            ]
          },
          "metadata": {},
          "execution_count": 233
        }
      ]
    },
    {
      "cell_type": "code",
      "metadata": {
        "id": "KVfmaz9R5qAn",
        "colab": {
          "base_uri": "https://localhost:8080/"
        },
        "outputId": "c6eefe5c-205d-4536-9d84-fb9c18e580c8"
      },
      "source": [
        "#property 5\n",
        "muliden = mat1@iden\n",
        "np.array_equiv(muliden, mat1)"
      ],
      "execution_count": null,
      "outputs": [
        {
          "output_type": "execute_result",
          "data": {
            "text/plain": [
              "True"
            ]
          },
          "metadata": {},
          "execution_count": 234
        }
      ]
    },
    {
      "cell_type": "code",
      "source": [
        "#property 6\n",
        "mulnull2 = (mat1@null2)\n",
        "np.array_equiv(mulnull2, null2)"
      ],
      "metadata": {
        "colab": {
          "base_uri": "https://localhost:8080/"
        },
        "id": "Jcx63aSiujqM",
        "outputId": "fb6841fc-e63b-40cc-c6ce-163f71ba2e41"
      },
      "execution_count": null,
      "outputs": [
        {
          "output_type": "execute_result",
          "data": {
            "text/plain": [
              "True"
            ]
          },
          "metadata": {},
          "execution_count": 242
        }
      ]
    },
    {
      "cell_type": "markdown",
      "metadata": {
        "id": "HQjpp42R5qAn"
      },
      "source": [
        "## Conclusion"
      ]
    },
    {
      "cell_type": "markdown",
      "metadata": {
        "id": "Tx0zyjMm5qAo"
      },
      "source": [
        "For your conclusion synthesize the concept and application of the laboratory. Briefly discuss what you have learned and achieved in this activity. \n",
        "\n",
        "In this laboratory activity, the students learned about Matrix Operations in Python; its transpositions, the dot product or inner product has two rules - rule 1: the inner dimensions of the two matrices in question must be the same, and rule 2: dot product has special properties. Determinants and inverse are also tackled in this laboratory activity. The students also had the opportunity to create their own matrices in which the shapes should not be lower than (3,3)."
      ]
    }
  ]
}