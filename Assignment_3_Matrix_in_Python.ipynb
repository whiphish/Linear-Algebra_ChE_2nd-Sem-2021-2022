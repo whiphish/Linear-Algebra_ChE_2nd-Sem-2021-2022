{
  "nbformat": 4,
  "nbformat_minor": 0,
  "metadata": {
    "colab": {
      "name": "Assignment 3 - Matrix in Python.ipynb",
      "provenance": [],
      "collapsed_sections": [],
      "include_colab_link": true
    },
    "kernelspec": {
      "name": "python3",
      "display_name": "Python 3"
    },
    "language_info": {
      "name": "python"
    }
  },
  "cells": [
    {
      "cell_type": "markdown",
      "metadata": {
        "id": "view-in-github",
        "colab_type": "text"
      },
      "source": [
        "<a href=\"https://colab.research.google.com/github/whiphish/Linear-Algebra_ChE_2nd-Sem-2021-2022/blob/main/Assignment_3_Matrix_in_Python.ipynb\" target=\"_parent\"><img src=\"https://colab.research.google.com/assets/colab-badge.svg\" alt=\"Open In Colab\"/></a>"
      ]
    },
    {
      "cell_type": "markdown",
      "source": [
        "#Linear Algebra for ChE\n",
        "\n",
        "## Assignment 3 : Matrices\n",
        "\n",
        "Matrices are group of numbers that are arranged by rows and columns in a rectangular manner. According to Aakash+byju's (n.d.), matrices are characterized by m number of rows and n number of columns and are confined by brackets \"[ ]\" and parentheses \"( )\"."
      ],
      "metadata": {
        "id": "ljYeF8pAKZ5P"
      }
    },
    {
      "cell_type": "markdown",
      "source": [
        "### Objectives\n",
        "At the end of this activity you will be able to:\n",
        "1. Know about matrices and their connection to linear equations.\n",
        "2. Understand basic matrix operations.\n",
        "3. Program and translate matrix equations and operations using Python."
      ],
      "metadata": {
        "id": "8kFRM_bCLBzd"
      }
    },
    {
      "cell_type": "markdown",
      "source": [
        "##Discussion\n"
      ],
      "metadata": {
        "id": "U4_faevmK2_u"
      }
    },
    {
      "cell_type": "code",
      "source": [
        "#fcns needed in order for several symbols and operations to be used\n",
        "\n",
        "import numpy as np\n",
        "import matplotlib.pyplot as plt\n",
        "import scipy.linalg as la\n",
        "%matplotlib inline"
      ],
      "metadata": {
        "id": "mu3QoiqmK2d1"
      },
      "execution_count": null,
      "outputs": []
    },
    {
      "cell_type": "markdown",
      "source": [
        "### Matrices\n"
      ],
      "metadata": {
        "id": "sbPZnWvYLtEg"
      }
    },
    {
      "cell_type": "markdown",
      "source": [
        "In this part, the students learned how to code linear equations into in Python Programming Language. "
      ],
      "metadata": {
        "id": "crooWsHRtEoC"
      }
    },
    {
      "cell_type": "markdown",
      "source": [
        "$$\n",
        "A = \\left\\{\n",
        "    \\begin{array}\\\n",
        "        2x + 5y \\\\ \n",
        "        7x - 35y\n",
        "    \\end{array}\n",
        "\\right. \\\\\n",
        "B = \\left\\{\n",
        "    \\begin{array}\\\n",
        "        10x-y+6z \\\\ \n",
        "        4x -y -9z \\\\\n",
        "        -x + 4y +2z\n",
        "    \\end{array}\n",
        "\\right. \\\\\n",
        "C = \\left\\{\n",
        "    \\begin{array}\\\n",
        "      w-2x+3y-4z \\\\\n",
        "      3w-x-2y+z \\\\\n",
        "      2w-x+3y-2z\n",
        "    \\end{array}\n",
        "\\right. \\\\\n",
        "$$"
      ],
      "metadata": {
        "id": "2R1baS9kMp8D"
      }
    },
    {
      "cell_type": "markdown",
      "source": [
        "The student learned to convert linear equation into its matrix form."
      ],
      "metadata": {
        "id": "OsuITOrRtWPI"
      }
    },
    {
      "cell_type": "markdown",
      "source": [
        "$$\n",
        "A=\\begin{bmatrix} 5 & 7 \\\\ 3 & -15\\end{bmatrix} \\\\\n",
        "B=\\begin{bmatrix} 70 & 69 & 30 \\\\ 2 & -5 & -10 \\\\ -12 & 43 & 21\\end{bmatrix}\\\\\n",
        "C=\\begin{bmatrix} 1 & -2 & 3 & -4 \\\\ 3 & -1 & -2 & 1 \\\\ 2 & -1 & 3 & -2\\end{bmatrix}\\\\\n",
        "$$"
      ],
      "metadata": {
        "id": "ZwVokQ_fOSuW"
      }
    },
    {
      "cell_type": "markdown",
      "source": [
        "#### Declaring Matrices\n",
        "\n",
        "Just like our previous laboratory activity, we'll represent a system of linear equations as a matrix. It is important for us to declare matrices correctly in order for us to make the computer execute the necessary and appropriate operations needed to solve a certain task or problem. Given below is matrix A. Each matrix is composed of rows and columns as its element. In here, the elements are being denoted or characterized by a(i,j); i being its row number and j being its column number."
      ],
      "metadata": {
        "id": "qAmMnYMKPSSF"
      }
    },
    {
      "cell_type": "markdown",
      "source": [
        "$$A=\\begin{bmatrix}\n",
        "a_{(0,0)}&a_{(0,1)}&\\dots&a_{(0,j-1)}\\\\\n",
        "a_{(1,0)}&a_{(1,1)}&\\dots&a_{(1,j-1)}\\\\\n",
        "\\vdots&\\vdots&\\ddots&\\vdots&\\\\\n",
        "a_{(i-1,0)}&a_{(i-1,1)}&\\dots&a_{(i-1,j-1)}\n",
        "\\end{bmatrix}\n",
        "$$"
      ],
      "metadata": {
        "id": "e07QBGEkQZV1"
      }
    },
    {
      "cell_type": "code",
      "source": [
        "#Defining Matrix\n",
        "#used to perform operations such as stating the given matrix, its shape, and its dimension\n",
        "def describe_mat(matrix):\n",
        "    print(f'Matrix:\\n{matrix}\\n\\nShape:\\t{matrix.shape}\\nRank:\\t{matrix.ndim}\\n')"
      ],
      "metadata": {
        "id": "-9Cz0TzaQblx"
      },
      "execution_count": null,
      "outputs": []
    },
    {
      "cell_type": "code",
      "source": [
        "#Example on how to define matrices\n",
        "A = np.array([\n",
        "    [10, 25],\n",
        "    [31, 12]\n",
        "])\n",
        "describe_mat(A)"
      ],
      "metadata": {
        "colab": {
          "base_uri": "https://localhost:8080/"
        },
        "id": "dxz5y1nYQzOt",
        "outputId": "fa96d65c-4420-45e4-a42c-b38dbc8ab3e2"
      },
      "execution_count": null,
      "outputs": [
        {
          "output_type": "stream",
          "name": "stdout",
          "text": [
            "Matrix:\n",
            "[[10 25]\n",
            " [31 12]]\n",
            "\n",
            "Shape:\t(2, 2)\n",
            "Rank:\t2\n",
            "\n"
          ]
        }
      ]
    },
    {
      "cell_type": "code",
      "source": [
        "#Another Example of defining matrices\n",
        "B = np.array([\n",
        "    [12,13,34],\n",
        "    [25,21,42]\n",
        "])\n",
        "describe_mat(B)"
      ],
      "metadata": {
        "id": "7_Ptp_c-SUgr",
        "colab": {
          "base_uri": "https://localhost:8080/"
        },
        "outputId": "c7785547-3f35-492a-d2e5-3d7436574165"
      },
      "execution_count": null,
      "outputs": [
        {
          "output_type": "stream",
          "name": "stdout",
          "text": [
            "Matrix:\n",
            "[[12 13 34]\n",
            " [25 21 42]]\n",
            "\n",
            "Shape:\t(2, 3)\n",
            "Rank:\t2\n",
            "\n"
          ]
        }
      ]
    },
    {
      "cell_type": "code",
      "source": [
        "#Another Example of defining matrices\n",
        "C = np.array([\n",
        "    [81, 22],\n",
        "    [55, 43],\n",
        "    [12, 10]\n",
        "])\n",
        "describe_mat(C)"
      ],
      "metadata": {
        "id": "-qqQzfjhSdRP",
        "colab": {
          "base_uri": "https://localhost:8080/"
        },
        "outputId": "fef1bd9c-3428-45d7-eb77-0ab05c4b3166"
      },
      "execution_count": null,
      "outputs": [
        {
          "output_type": "stream",
          "name": "stdout",
          "text": [
            "Matrix:\n",
            "[[81 22]\n",
            " [55 43]\n",
            " [12 10]]\n",
            "\n",
            "Shape:\t(3, 2)\n",
            "Rank:\t2\n",
            "\n"
          ]
        }
      ]
    },
    {
      "cell_type": "code",
      "source": [
        "D = np.array([10,20,30,40])\n",
        "describe_mat(D)"
      ],
      "metadata": {
        "colab": {
          "base_uri": "https://localhost:8080/"
        },
        "id": "vyZKk3mJSnHI",
        "outputId": "b4bf5417-cd40-4440-bc72-f45282ebfea8"
      },
      "execution_count": null,
      "outputs": [
        {
          "output_type": "stream",
          "name": "stdout",
          "text": [
            "Matrix:\n",
            "[10 20 30 40]\n",
            "\n",
            "Shape:\t(4,)\n",
            "Rank:\t1\n",
            "\n"
          ]
        }
      ]
    },
    {
      "cell_type": "markdown",
      "source": [
        "#### Categorizing Matrices\n",
        "\n",
        "There are several ways of classifying matrices. One could be according to their shape and another is according to their element values. Matrices that are classified according to their shape are grouped into several kinds namely Row and Column Matrices and Square Matrices. Matrices that are classified according to their element values are grouped as follows: Null Matrix, Zero Matrix, Ones Matrix, Diagonal Matrix, Identity Matrix, Upper Triangular Matrix, and Lower Triangular Matrix.\n",
        "\n",
        "\n",
        "\n"
      ],
      "metadata": {
        "id": "bSmtNgbkS0Ka"
      }
    },
    {
      "cell_type": "markdown",
      "source": [
        "##### According to shape\n",
        "\n",
        "Matrices can be classified according to their shape. We can determine the shape of a matrix by identifying its number of rows and columns. In this section, the students indicated that matrices can be grouped into a row and column matrices, and square matrices. Here, we can identify the differences between the two kinds of matrices.\n"
      ],
      "metadata": {
        "id": "O5k91OnFTgv7"
      }
    },
    {
      "cell_type": "markdown",
      "source": [
        "###### Row and Column Matrices\n",
        "\n",
        "Row Matrices are matrices that only have one row of elements. Column Matrices are matrices that only have one column of elements. The students should be careful in encoding the number of brackets in order for them to produce a proper output."
      ],
      "metadata": {
        "id": "EhiH3RnnTj14"
      }
    },
    {
      "cell_type": "code",
      "source": [
        "##### Declaring a Row Matrix\n",
        "\n",
        "row1D = np.array([\n",
        "    15, 30, 21, -42\n",
        "]) ## this is a 1-D Matrix with a shape of (4,), it's not really considered as a row matrix.\n",
        "row2D = np.array([\n",
        "    [10,21,36,-45]\n",
        "]) ## this is a 2-D Matrix with a shape of (1,4)\n",
        "describe_mat(row1D)\n",
        "describe_mat(row2D)"
      ],
      "metadata": {
        "colab": {
          "base_uri": "https://localhost:8080/"
        },
        "id": "Sp5TnNBmTpAR",
        "outputId": "6ae6aa9b-bcd7-474d-e79f-7ffbc9dad19d"
      },
      "execution_count": null,
      "outputs": [
        {
          "output_type": "stream",
          "name": "stdout",
          "text": [
            "Matrix:\n",
            "[ 15  30  21 -42]\n",
            "\n",
            "Shape:\t(4,)\n",
            "Rank:\t1\n",
            "\n",
            "Matrix:\n",
            "[[ 10  21  36 -45]]\n",
            "\n",
            "Shape:\t(1, 4)\n",
            "Rank:\t2\n",
            "\n"
          ]
        }
      ]
    },
    {
      "cell_type": "code",
      "source": [
        "##### Declaring a Column Matrix\n",
        "\n",
        "col1 = np.array([\n",
        "    [1],\n",
        "    [2],\n",
        "    [5]\n",
        "]) ## this is a 2-D Matrix with a shape of (3,1)\n",
        "describe_mat(col1)"
      ],
      "metadata": {
        "colab": {
          "base_uri": "https://localhost:8080/"
        },
        "id": "jpT5O7vzUgTe",
        "outputId": "e18c8957-524f-40ff-a506-d16072d70cd8"
      },
      "execution_count": null,
      "outputs": [
        {
          "output_type": "stream",
          "name": "stdout",
          "text": [
            "Matrix:\n",
            "[[1]\n",
            " [2]\n",
            " [5]]\n",
            "\n",
            "Shape:\t(3, 1)\n",
            "Rank:\t2\n",
            "\n"
          ]
        }
      ]
    },
    {
      "cell_type": "markdown",
      "source": [
        "###### Square Matrices\n",
        "\n",
        "Square Matrices are matrices whose number of rows and columns are equal to one another. "
      ],
      "metadata": {
        "id": "eRpVg6JJU0BU"
      }
    },
    {
      "cell_type": "code",
      "source": [
        "##fcn that define describe_mat(matrix)\n",
        "##used to declare the matrix, its shape, rank, dimensions, and tell if it is a square matrix or not\n",
        "def describe_mat(matrix):\n",
        "    is_square = True if matrix.shape[0] == matrix.shape[1] else False \n",
        "    print(f'Matrix:\\n{matrix}\\n\\nShape:\\t{matrix.shape}\\nRank:\\t{matrix.ndim}\\nIs Square: {is_square}\\n')"
      ],
      "metadata": {
        "id": "FL6-RRt3VaHq"
      },
      "execution_count": null,
      "outputs": []
    },
    {
      "cell_type": "code",
      "source": [
        "#declaring matrices and their output using describe_mat()\n",
        "square = np.array([\n",
        "    [15,24,51],\n",
        "    [33,36,81],\n",
        "    [69,12,21]\n",
        "])\n",
        "\n",
        "notsquare = np.array([\n",
        "    [12,21,57],\n",
        "    [33,39,84]\n",
        "])\n",
        "describe_mat(square)\n",
        "describe_mat(notsquare)"
      ],
      "metadata": {
        "colab": {
          "base_uri": "https://localhost:8080/"
        },
        "id": "rqLaONlBVijC",
        "outputId": "9e243bb1-3afb-4417-a442-ad66accef1a9"
      },
      "execution_count": null,
      "outputs": [
        {
          "output_type": "stream",
          "name": "stdout",
          "text": [
            "Matrix:\n",
            "[[15 24 51]\n",
            " [33 36 81]\n",
            " [69 12 21]]\n",
            "\n",
            "Shape:\t(3, 3)\n",
            "Rank:\t2\n",
            "Is Square: True\n",
            "\n",
            "Matrix:\n",
            "[[12 21 57]\n",
            " [33 39 84]]\n",
            "\n",
            "Shape:\t(2, 3)\n",
            "Rank:\t2\n",
            "Is Square: False\n",
            "\n"
          ]
        }
      ]
    },
    {
      "cell_type": "markdown",
      "source": [
        "##### According to element values\n",
        "\n",
        "An element is a number or character inside a matrix. In this section, the students learned about the classification of matrices according to its element values. Matrices are grouped into Null Matrix, Zero Matrix, Ones Matrix, Diagonal Matrix, Identity Matrix, Upper Triangular Matrix, and Lower Triangular Matrix."
      ],
      "metadata": {
        "id": "HEFr__7UWKWz"
      }
    },
    {
      "cell_type": "markdown",
      "source": [
        "###### Null Matrix\n",
        "\n",
        "Null Matrices are matrices who have no element or the whole matrix is empty."
      ],
      "metadata": {
        "id": "Q8eakez2WOEA"
      }
    },
    {
      "cell_type": "code",
      "source": [
        "#defining describe_mat(matrix)\n",
        "#used to declare the matrix, its shape, rank, dimension, tell if it is a square matrix or not and determining whether the said matrix is null or not.\n",
        "def describe_mat(matrix):\n",
        "    if matrix.size > 0:\n",
        "        is_square = True if matrix.shape[0] == matrix.shape[1] else False \n",
        "        print(f'Matrix:\\n{matrix}\\n\\nShape:\\t{matrix.shape}\\nRank:\\t{matrix.ndim}\\nIs Square: {is_square}\\n')\n",
        "    else:\n",
        "        print('Matrix is Null')"
      ],
      "metadata": {
        "id": "3vFp6f28WXjb"
      },
      "execution_count": null,
      "outputs": []
    },
    {
      "cell_type": "code",
      "source": [
        "#Example of null matrix and usage of defined fcn\n",
        "null = np.array([])\n",
        "describe_mat(null)"
      ],
      "metadata": {
        "colab": {
          "base_uri": "https://localhost:8080/"
        },
        "id": "MB42sYMEWgQ4",
        "outputId": "3d43c262-774d-413b-aa20-2191fc4c3690"
      },
      "execution_count": null,
      "outputs": [
        {
          "output_type": "stream",
          "name": "stdout",
          "text": [
            "Matrix is Null\n"
          ]
        }
      ]
    },
    {
      "cell_type": "markdown",
      "source": [
        "###### Zero Matrix\n",
        "\n",
        "Zero Matrix is a matrix whose elements are zeroes. From its row and column, all elements are zeroes. "
      ],
      "metadata": {
        "id": "l7I3cvPAXPsP"
      }
    },
    {
      "cell_type": "code",
      "source": [
        "#Zero matrices\n",
        "\n",
        "zerorow = np.zeros((1,3))\n",
        "zerosquare = np.zeros((4,4))\n",
        "zerorectangle = np.zeros((6,5))\n",
        "\n",
        "print(f'Zero Row Matrix: \\n{zerorow}')\n",
        "print(f'Zero Square Matrix: \\n{zerosquare}')\n",
        "print(f'Zero Rectangular Matrix: \\n{zerorectangle}')"
      ],
      "metadata": {
        "colab": {
          "base_uri": "https://localhost:8080/"
        },
        "id": "Rm970OifXSQF",
        "outputId": "d7667c30-d742-4a86-fb28-3e709dac9587"
      },
      "execution_count": null,
      "outputs": [
        {
          "output_type": "stream",
          "name": "stdout",
          "text": [
            "Zero Row Matrix: \n",
            "[[0. 0. 0.]]\n",
            "Zero Square Matrix: \n",
            "[[0. 0. 0. 0.]\n",
            " [0. 0. 0. 0.]\n",
            " [0. 0. 0. 0.]\n",
            " [0. 0. 0. 0.]]\n",
            "Zero Rectangular Matrix: \n",
            "[[0. 0. 0. 0. 0.]\n",
            " [0. 0. 0. 0. 0.]\n",
            " [0. 0. 0. 0. 0.]\n",
            " [0. 0. 0. 0. 0.]\n",
            " [0. 0. 0. 0. 0.]\n",
            " [0. 0. 0. 0. 0.]]\n"
          ]
        }
      ]
    },
    {
      "cell_type": "markdown",
      "source": [
        "###### Ones Matrix\n",
        "\n",
        "Compared to Zero Matrix, the one Matrix is composed of number one from its rows to its columns. "
      ],
      "metadata": {
        "id": "4oZ3guTbXlQ-"
      }
    },
    {
      "cell_type": "code",
      "source": [
        "#Ones Matrix\n",
        "\n",
        "onesrow = np.ones((1,3))\n",
        "onessqr = np.ones((4,4))\n",
        "onesrct = np.ones((6,5))\n",
        "\n",
        "print(f'Ones Row Matrix: \\n{onesrow}')\n",
        "print(f'Ones Square Matrix: \\n{onessqr}')\n",
        "print(f'Ones Rectangular Matrix: \\n{onesrct}')"
      ],
      "metadata": {
        "colab": {
          "base_uri": "https://localhost:8080/"
        },
        "id": "4jBrnacFXvFa",
        "outputId": "08823353-5125-43a9-d684-e3700e1d9975"
      },
      "execution_count": null,
      "outputs": [
        {
          "output_type": "stream",
          "name": "stdout",
          "text": [
            "Ones Row Matrix: \n",
            "[[1. 1. 1.]]\n",
            "Ones Square Matrix: \n",
            "[[1. 1. 1. 1.]\n",
            " [1. 1. 1. 1.]\n",
            " [1. 1. 1. 1.]\n",
            " [1. 1. 1. 1.]]\n",
            "Ones Rectangular Matrix: \n",
            "[[1. 1. 1. 1. 1.]\n",
            " [1. 1. 1. 1. 1.]\n",
            " [1. 1. 1. 1. 1.]\n",
            " [1. 1. 1. 1. 1.]\n",
            " [1. 1. 1. 1. 1.]\n",
            " [1. 1. 1. 1. 1.]]\n"
          ]
        }
      ]
    },
    {
      "cell_type": "markdown",
      "source": [
        "###### Diagonal Matrix\n",
        "\n",
        "Diagonal Matrix is a matrix who has element values that may or may not be equal to zero that is patterned diagonally. Aside from these element values, all other elements are equal to zero."
      ],
      "metadata": {
        "id": "GB56x2RRX-Ty"
      }
    },
    {
      "cell_type": "code",
      "source": [
        "#Diagonal Matrix\n",
        "np.array([\n",
        "    [1,0,0],\n",
        "    [0,2,0],\n",
        "    [0,0,3]\n",
        "])"
      ],
      "metadata": {
        "colab": {
          "base_uri": "https://localhost:8080/"
        },
        "id": "Vz4smjQJX9sP",
        "outputId": "a8a9e4b6-7688-454e-dc19-f142992640bb"
      },
      "execution_count": null,
      "outputs": [
        {
          "output_type": "execute_result",
          "data": {
            "text/plain": [
              "array([[1, 0, 0],\n",
              "       [0, 2, 0],\n",
              "       [0, 0, 3]])"
            ]
          },
          "metadata": {},
          "execution_count": 15
        }
      ]
    },
    {
      "cell_type": "code",
      "source": [
        "#Other way to declare a diagonal matrix\n",
        "diag = np.diag([3,6,9,12,15,18,21])\n",
        "diag"
      ],
      "metadata": {
        "colab": {
          "base_uri": "https://localhost:8080/"
        },
        "id": "DrLFtf_hYLyh",
        "outputId": "9d38cb41-0c8c-475c-dfa5-c556726d431e"
      },
      "execution_count": null,
      "outputs": [
        {
          "output_type": "execute_result",
          "data": {
            "text/plain": [
              "array([[ 3,  0,  0,  0,  0,  0,  0],\n",
              "       [ 0,  6,  0,  0,  0,  0,  0],\n",
              "       [ 0,  0,  9,  0,  0,  0,  0],\n",
              "       [ 0,  0,  0, 12,  0,  0,  0],\n",
              "       [ 0,  0,  0,  0, 15,  0,  0],\n",
              "       [ 0,  0,  0,  0,  0, 18,  0],\n",
              "       [ 0,  0,  0,  0,  0,  0, 21]])"
            ]
          },
          "metadata": {},
          "execution_count": 16
        }
      ]
    },
    {
      "cell_type": "markdown",
      "source": [
        "###### Identity Matrix\n",
        "\n",
        "Identity Matrix is a matrix that has elements equal to one that is patterned diagonally and all other elements are equal to zero."
      ],
      "metadata": {
        "id": "cut9OLMnYuBA"
      }
    },
    {
      "cell_type": "code",
      "source": [
        "#Identity Matrix\n",
        "np.eye(10)"
      ],
      "metadata": {
        "colab": {
          "base_uri": "https://localhost:8080/"
        },
        "id": "EDI_AjuTY11w",
        "outputId": "fc8f4b61-f1b8-4553-8bc2-ea4d47fafd9b"
      },
      "execution_count": null,
      "outputs": [
        {
          "output_type": "execute_result",
          "data": {
            "text/plain": [
              "array([[1., 0., 0., 0., 0., 0., 0., 0., 0., 0.],\n",
              "       [0., 1., 0., 0., 0., 0., 0., 0., 0., 0.],\n",
              "       [0., 0., 1., 0., 0., 0., 0., 0., 0., 0.],\n",
              "       [0., 0., 0., 1., 0., 0., 0., 0., 0., 0.],\n",
              "       [0., 0., 0., 0., 1., 0., 0., 0., 0., 0.],\n",
              "       [0., 0., 0., 0., 0., 1., 0., 0., 0., 0.],\n",
              "       [0., 0., 0., 0., 0., 0., 1., 0., 0., 0.],\n",
              "       [0., 0., 0., 0., 0., 0., 0., 1., 0., 0.],\n",
              "       [0., 0., 0., 0., 0., 0., 0., 0., 1., 0.],\n",
              "       [0., 0., 0., 0., 0., 0., 0., 0., 0., 1.]])"
            ]
          },
          "metadata": {},
          "execution_count": 17
        }
      ]
    },
    {
      "cell_type": "code",
      "source": [
        "#Other Way to Declare an Identity Matrix\n",
        "np.identity(5)"
      ],
      "metadata": {
        "colab": {
          "base_uri": "https://localhost:8080/"
        },
        "id": "xVkOsW-5Y7MZ",
        "outputId": "eae75c66-297f-4a32-900b-f770823e396f"
      },
      "execution_count": null,
      "outputs": [
        {
          "output_type": "execute_result",
          "data": {
            "text/plain": [
              "array([[1., 0., 0., 0., 0.],\n",
              "       [0., 1., 0., 0., 0.],\n",
              "       [0., 0., 1., 0., 0.],\n",
              "       [0., 0., 0., 1., 0.],\n",
              "       [0., 0., 0., 0., 1.]])"
            ]
          },
          "metadata": {},
          "execution_count": 18
        }
      ]
    },
    {
      "cell_type": "markdown",
      "source": [
        "###### Upper Triangular Matrix\n",
        "\n",
        "Upper Triangular Matrix is a matrix wherein there are increase in the number of elements as the reader goes to the right and downward."
      ],
      "metadata": {
        "id": "_Fn7okORZNRu"
      }
    },
    {
      "cell_type": "code",
      "source": [
        "#Upper Triangular Matrix\n",
        "np.array([\n",
        "    [10,20,30,40],\n",
        "    [0,30,10,-10],\n",
        "    [0,0,50,20],\n",
        "    [0,0,0,20]\n",
        "])"
      ],
      "metadata": {
        "colab": {
          "base_uri": "https://localhost:8080/"
        },
        "id": "UG1s6HYXZR2a",
        "outputId": "254baf5b-fac1-4b23-c2ba-9da5c1084e8b"
      },
      "execution_count": null,
      "outputs": [
        {
          "output_type": "execute_result",
          "data": {
            "text/plain": [
              "array([[ 10,  20,  30,  40],\n",
              "       [  0,  30,  10, -10],\n",
              "       [  0,   0,  50,  20],\n",
              "       [  0,   0,   0,  20]])"
            ]
          },
          "metadata": {},
          "execution_count": 19
        }
      ]
    },
    {
      "cell_type": "code",
      "source": [
        "#Other Way to Declare Upper Triangular Matrix\n",
        "E = np.array([\n",
        "              [21, -33, 42, -51, 60],\n",
        "              [21, -33, 42, -51, 60],\n",
        "              [21, -33, 42, -51, 60],\n",
        "              [21, -33, 42, -51, 60],\n",
        "              [21, -33, 42, -51, 60],\n",
        "])\n",
        "np.triu(E)"
      ],
      "metadata": {
        "colab": {
          "base_uri": "https://localhost:8080/"
        },
        "id": "u0oXd0AYZ2_l",
        "outputId": "3ccb8765-5b26-4cd4-8beb-6a8eae15fc9f"
      },
      "execution_count": null,
      "outputs": [
        {
          "output_type": "execute_result",
          "data": {
            "text/plain": [
              "array([[ 21, -33,  42, -51,  60],\n",
              "       [  0, -33,  42, -51,  60],\n",
              "       [  0,   0,  42, -51,  60],\n",
              "       [  0,   0,   0, -51,  60],\n",
              "       [  0,   0,   0,   0,  60]])"
            ]
          },
          "metadata": {},
          "execution_count": 20
        }
      ]
    },
    {
      "cell_type": "markdown",
      "source": [
        "###### Lower Triangular Matrix\n",
        "\n",
        "Lower Triangular Matrix is a matrix wherein there are decrease in the number of elements as the reader goes to the right and downward."
      ],
      "metadata": {
        "id": "PuKsgM0qaHfH"
      }
    },
    {
      "cell_type": "code",
      "source": [
        "#Lower Triangular Matrix\n",
        "np.array([\n",
        "    [12,0,0,0],\n",
        "    [63,3,0,0],\n",
        "    [72,63,51,0],\n",
        "    [12,51,21,21]\n",
        "])"
      ],
      "metadata": {
        "colab": {
          "base_uri": "https://localhost:8080/"
        },
        "id": "ggodzYmMaS-u",
        "outputId": "5070ada6-45b9-48ad-edca-a33eb0458ebf"
      },
      "execution_count": null,
      "outputs": [
        {
          "output_type": "execute_result",
          "data": {
            "text/plain": [
              "array([[12,  0,  0,  0],\n",
              "       [63,  3,  0,  0],\n",
              "       [72, 63, 51,  0],\n",
              "       [12, 51, 21, 21]])"
            ]
          },
          "metadata": {},
          "execution_count": 21
        }
      ]
    },
    {
      "cell_type": "code",
      "source": [
        "#Other Way to Declare a Lower Triangular Matrix\n",
        "np.tril(E)"
      ],
      "metadata": {
        "colab": {
          "base_uri": "https://localhost:8080/"
        },
        "id": "O-a9qgxzaTYm",
        "outputId": "4c94e74f-9ce3-4734-bfff-6119780a096d"
      },
      "execution_count": null,
      "outputs": [
        {
          "output_type": "execute_result",
          "data": {
            "text/plain": [
              "array([[ 21,   0,   0,   0,   0],\n",
              "       [ 21, -33,   0,   0,   0],\n",
              "       [ 21, -33,  42,   0,   0],\n",
              "       [ 21, -33,  42, -51,   0],\n",
              "       [ 21, -33,  42, -51,  60]])"
            ]
          },
          "metadata": {},
          "execution_count": 22
        }
      ]
    },
    {
      "cell_type": "markdown",
      "source": [
        "## Practice\n",
        "\n",
        "In this section, the students answered practice problems regarding matrices and how to encode it in its markdown and LaTeX markdown form."
      ],
      "metadata": {
        "id": "RnvolMvUa7pn"
      }
    },
    {
      "cell_type": "markdown",
      "source": [
        "1.Given the linear combination below, try to create a corresponding matrix representing it."
      ],
      "metadata": {
        "id": "4UkXTOwjcMT1"
      }
    },
    {
      "cell_type": "markdown",
      "source": [
        "$$\\theta = 5x + 3y - z$$"
      ],
      "metadata": {
        "id": "aTFDBpCec7XS"
      }
    },
    {
      "cell_type": "markdown",
      "source": [
        "ANSWER:\n",
        "\n",
        "$$\n",
        "\\theta =\\begin{bmatrix} 5 & 3 &-1 \\end{bmatrix} \\\\\n",
        "$$"
      ],
      "metadata": {
        "id": "ABPhN7aPphRM"
      }
    },
    {
      "cell_type": "markdown",
      "source": [
        "2. Given the system of linear combinations below, try to encode it as a matrix. Also describe the matrix."
      ],
      "metadata": {
        "id": "2NhPtBwBcZRI"
      }
    },
    {
      "cell_type": "markdown",
      "source": [
        "$$\n",
        "A = \\left\\{\\begin{array}\n",
        "5x_1 + 2x_2 +x_3\\\\\n",
        "4x_2 - x_3\\\\\n",
        "10x_3\n",
        "\\end{array}\n",
        "\\right.\n",
        "$$\n"
      ],
      "metadata": {
        "id": "t_0eOWiRdGUQ"
      }
    },
    {
      "cell_type": "markdown",
      "source": [
        "ANSWER:\n",
        "\n",
        "$$\n",
        "A=\\begin{bmatrix} 1 & 2 & 3\\\\ 0 & 4 & -1\\\\ 0 & 0 & 10\\end{bmatrix}\\\\\n",
        "$$\n"
      ],
      "metadata": {
        "id": "k3kUJxARqEG0"
      }
    },
    {
      "cell_type": "markdown",
      "source": [
        "The matrix A has spots where the values of $x_{1}$ and $x_{2}$ are equal to zero because they are not included in the linear equation. This is an example of upper triangular matrix wherein there are increase in the number of elements as the reader goes to the right and downward."
      ],
      "metadata": {
        "id": "5Ue-gZOzg5Bs"
      }
    },
    {
      "cell_type": "markdown",
      "source": [
        "3.Given the matrix below, express it as a linear combination in a markdown and a LaTeX markdown"
      ],
      "metadata": {
        "id": "f1PaBijicuqx"
      }
    },
    {
      "cell_type": "code",
      "source": [
        "G = np.array([\n",
        "    [1,7,8],\n",
        "    [2,2,2],\n",
        "    [4,6,7]\n",
        "])"
      ],
      "metadata": {
        "id": "H0Ldx-7tczGz"
      },
      "execution_count": null,
      "outputs": []
    },
    {
      "cell_type": "markdown",
      "source": [
        "ANSWER:\n",
        "\n",
        "Markdown\n",
        "$$\n",
        "G = \\left\\{\\begin{array}\n",
        "1x + 7y + 8z\\\\\n",
        "2x + 2y + 2z\\\\\n",
        "4x + 6y + 7z\n",
        "\\end{array}\n",
        "\\right.\n",
        "$$\n",
        "\n",
        "LaTeX markdown\n",
        "\n",
        "$$\n",
        "G=\\begin{bmatrix} 1 & 7 & 8\\\\ 2 & 2 & 2\\\\ 4 & 6 & 7\\end{bmatrix} \\\\\n",
        "$$"
      ],
      "metadata": {
        "id": "t8j7uylnrNRx"
      }
    },
    {
      "cell_type": "markdown",
      "source": [
        "4.Given the matrix below, display the output as a LaTeX markdown also express it as a system of linear combinations."
      ],
      "metadata": {
        "id": "ch4iN3Pic1Kr"
      }
    },
    {
      "cell_type": "code",
      "source": [
        "H = np.tril(G)\n",
        "H"
      ],
      "metadata": {
        "colab": {
          "base_uri": "https://localhost:8080/"
        },
        "id": "E66r8Lrwc5GL",
        "outputId": "d20814a3-ef92-41f4-8b9e-c7a4f21cb92f"
      },
      "execution_count": null,
      "outputs": [
        {
          "output_type": "execute_result",
          "data": {
            "text/plain": [
              "array([[1, 0, 0],\n",
              "       [2, 2, 0],\n",
              "       [4, 6, 7]])"
            ]
          },
          "metadata": {},
          "execution_count": 24
        }
      ]
    },
    {
      "cell_type": "markdown",
      "source": [
        "ANSWER:\n",
        "\n",
        "LaTeX markdown\n",
        "\n",
        "$$\n",
        "H=\\begin{bmatrix} 1 & 0 & 0\\\\ 2 & 2 & 0\\\\ 4 & 6 & 7\\end{bmatrix} \\\\\n",
        "$$\n",
        "\n",
        "System of Linear combinations\n",
        "$$\n",
        "H = \\left\\{\n",
        "    \\begin{array}\\\n",
        "        x \\\\ \n",
        "        2x + 2y \\\\\n",
        "        4x + 6y + 7z\\\n",
        "    \\end{array}\n",
        "\\right. \n",
        "$$"
      ],
      "metadata": {
        "id": "yE983vjDsEWw"
      }
    },
    {
      "cell_type": "markdown",
      "source": [
        "## Matrix Algebra\n",
        "\n",
        "In this section, the students learned to input different arithmetic operations involving matrices."
      ],
      "metadata": {
        "id": "P_jRaNJUt2-Q"
      }
    },
    {
      "cell_type": "markdown",
      "source": [
        "### Addition\n",
        "\n",
        "In this part, the students learned to perform addition involving matrices using Python Programming Language."
      ],
      "metadata": {
        "id": "oXCrYvsMt94z"
      }
    },
    {
      "cell_type": "code",
      "source": [
        "#Declaring Matrix I and J and Addition of Matrices\n",
        "I = np.array([\n",
        "    [12,21],\n",
        "    [21,33],\n",
        "    [42,12]\n",
        "])\n",
        "J = np.array([\n",
        "    [21,24],\n",
        "    [0,0],\n",
        "    [15,18]\n",
        "])\n",
        "I+J"
      ],
      "metadata": {
        "colab": {
          "base_uri": "https://localhost:8080/"
        },
        "id": "ZDIwbyGYuDRE",
        "outputId": "a34e38ee-b782-4b2f-df11-92d86dff1d23"
      },
      "execution_count": null,
      "outputs": [
        {
          "output_type": "execute_result",
          "data": {
            "text/plain": [
              "array([[33, 45],\n",
              "       [21, 33],\n",
              "       [57, 30]])"
            ]
          },
          "metadata": {},
          "execution_count": 25
        }
      ]
    },
    {
      "cell_type": "code",
      "source": [
        "3+I ###Broadcasting\n",
        "#3*np.ones(I.shape)+I"
      ],
      "metadata": {
        "colab": {
          "base_uri": "https://localhost:8080/"
        },
        "id": "beBkrQcauhJV",
        "outputId": "a9d2d348-8ea0-4d06-c99d-bb2cc84a522e"
      },
      "execution_count": null,
      "outputs": [
        {
          "output_type": "execute_result",
          "data": {
            "text/plain": [
              "array([[15, 24],\n",
              "       [24, 36],\n",
              "       [45, 15]])"
            ]
          },
          "metadata": {},
          "execution_count": 26
        }
      ]
    },
    {
      "cell_type": "code",
      "source": [
        "#Other Way to perform Addition of Matrices\n",
        "np.add(I,J)"
      ],
      "metadata": {
        "colab": {
          "base_uri": "https://localhost:8080/"
        },
        "id": "PaBzjKTsxnRJ",
        "outputId": "671dc962-b96c-4b70-baf3-9cd4fcc2446a"
      },
      "execution_count": null,
      "outputs": [
        {
          "output_type": "execute_result",
          "data": {
            "text/plain": [
              "array([[33, 45],\n",
              "       [21, 33],\n",
              "       [57, 30]])"
            ]
          },
          "metadata": {},
          "execution_count": 32
        }
      ]
    },
    {
      "cell_type": "markdown",
      "source": [
        "### Subtraction\n",
        "\n",
        "In this part, the students learned to perform subtraction operation involving matrices using Python Programming Language."
      ],
      "metadata": {
        "id": "ugLjJ5YbvD-7"
      }
    },
    {
      "cell_type": "code",
      "source": [
        "# Subtraction of Matrices\n",
        "I-J"
      ],
      "metadata": {
        "colab": {
          "base_uri": "https://localhost:8080/"
        },
        "id": "mU41cqpMvKFI",
        "outputId": "62e62d2f-6cb3-4097-823d-d8227ce79ce3"
      },
      "execution_count": null,
      "outputs": [
        {
          "output_type": "execute_result",
          "data": {
            "text/plain": [
              "array([[-9, -3],\n",
              "       [21, 33],\n",
              "       [27, -6]])"
            ]
          },
          "metadata": {},
          "execution_count": 27
        }
      ]
    },
    {
      "cell_type": "code",
      "source": [
        "2-I\n",
        "#2*np.ones(I.shape)-I"
      ],
      "metadata": {
        "colab": {
          "base_uri": "https://localhost:8080/"
        },
        "id": "cppNmPidvP7A",
        "outputId": "bbf04b77-9e74-4acc-83bd-e35039854df9"
      },
      "execution_count": null,
      "outputs": [
        {
          "output_type": "execute_result",
          "data": {
            "text/plain": [
              "array([[-10, -19],\n",
              "       [-19, -31],\n",
              "       [-40, -10]])"
            ]
          },
          "metadata": {},
          "execution_count": 28
        }
      ]
    },
    {
      "cell_type": "markdown",
      "source": [
        "### Element-wise Multiplication\n",
        "\n",
        "In this part, the students learned to perform element-wise multiplication operation involving matrices using Python Programming Language."
      ],
      "metadata": {
        "id": "kwoJnNPZvgWj"
      }
    },
    {
      "cell_type": "code",
      "source": [
        "#Element-wise Multiplication\n",
        "I*J\n",
        "#np.multiply(I,J)"
      ],
      "metadata": {
        "colab": {
          "base_uri": "https://localhost:8080/"
        },
        "id": "PdXauNqjvnE7",
        "outputId": "5c98470a-818d-44ab-cd68-d4ebf6cd1b74"
      },
      "execution_count": null,
      "outputs": [
        {
          "output_type": "execute_result",
          "data": {
            "text/plain": [
              "array([[252, 504],\n",
              "       [  0,   0],\n",
              "       [630, 216]])"
            ]
          },
          "metadata": {},
          "execution_count": 29
        }
      ]
    },
    {
      "cell_type": "code",
      "source": [
        "#Multiplication of a Constant and a Matrix\n",
        "3*J"
      ],
      "metadata": {
        "colab": {
          "base_uri": "https://localhost:8080/"
        },
        "id": "oERJ6yMAv5iC",
        "outputId": "bd9c205b-a514-4f91-bd1e-2d3d9702efb4"
      },
      "execution_count": null,
      "outputs": [
        {
          "output_type": "execute_result",
          "data": {
            "text/plain": [
              "array([[63, 72],\n",
              "       [ 0,  0],\n",
              "       [45, 54]])"
            ]
          },
          "metadata": {},
          "execution_count": 30
        }
      ]
    },
    {
      "cell_type": "markdown",
      "source": [
        "### Element-wise Division\n",
        "\n",
        "In this part, the students learned to perform element-wise division operation involving matrices using Python Programming Language."
      ],
      "metadata": {
        "id": "SIa_mWVU1o8B"
      }
    },
    {
      "cell_type": "code",
      "source": [
        "#Element-wise Division\n",
        "J/I"
      ],
      "metadata": {
        "colab": {
          "base_uri": "https://localhost:8080/"
        },
        "id": "HcdaETXE1oYJ",
        "outputId": "750c0a66-8185-4ff7-9f91-97835ad8cfa0"
      },
      "execution_count": null,
      "outputs": [
        {
          "output_type": "execute_result",
          "data": {
            "text/plain": [
              "array([[1.75      , 1.14285714],\n",
              "       [0.        , 0.        ],\n",
              "       [0.35714286, 1.5       ]])"
            ]
          },
          "metadata": {},
          "execution_count": 41
        }
      ]
    },
    {
      "cell_type": "code",
      "source": [
        "#Division involving Matrices\n",
        "omega=10**-2\n",
        "I/(omega+J)"
      ],
      "metadata": {
        "colab": {
          "base_uri": "https://localhost:8080/"
        },
        "id": "tV5ocBWNxUNC",
        "outputId": "c4c4f19a-f916-4344-fbf7-328b6b6cdf5e"
      },
      "execution_count": null,
      "outputs": [
        {
          "output_type": "execute_result",
          "data": {
            "text/plain": [
              "array([[5.71156592e-01, 8.74635569e-01],\n",
              "       [2.10000000e+03, 3.30000000e+03],\n",
              "       [2.79813458e+00, 6.66296502e-01]])"
            ]
          },
          "metadata": {},
          "execution_count": 31
        }
      ]
    },
    {
      "cell_type": "markdown",
      "source": [
        "## Activity\n",
        "\n",
        "In this section, the students was tasked to give an output that involved the learnings about Matrices in Python. "
      ],
      "metadata": {
        "id": "h8pdv0Gfx4-9"
      }
    },
    {
      "cell_type": "markdown",
      "source": [
        "### Task 1"
      ],
      "metadata": {
        "id": "QwYREqZzyX6x"
      }
    },
    {
      "cell_type": "markdown",
      "source": [
        "Create a function named `mat_desc()` that througouhly describes a matrix, it should: <br>\n",
        "1. Displays the shape, size, and rank of the matrix. <br>\n",
        "2. Displays whether the matrix is square or non-square. <br>\n",
        "3. Displays whether the matrix is an empty matrix. <br>\n",
        "4. Displays if the matrix is an identity, ones, or zeros matrix <br>\n",
        "   \n",
        "Use 5 sample matrices in which their shapes are not lower than $(3,3)$.\n",
        "In your methodology, create a flowchart discuss the functions and methods you have done. Present your results in the results section showing the description of each matrix you have declared."
      ],
      "metadata": {
        "id": "-JxEUXX1yBxs"
      }
    },
    {
      "cell_type": "code",
      "source": [
        "## Function Area\n",
        "import numpy as np\n",
        "def mat_desc(matrix):\n",
        "    square = True if matrix.shape[0] == matrix.shape[1] else False \n",
        "    print(f'Matrix:\\n{matrix}\\n\\nShape:\\t{matrix.shape}\\nRank:{matrix.ndim}\\nSquare Matrix:{square}')\n",
        "    if(matrix.shape[0] == 0 and matrix.shape[1] == 0):\n",
        "      print(f'Empty Matrix: True')\n",
        "    else:\n",
        "      print(f'Empty Matrix: False')\n",
        "      \n",
        "    identity = np.identity(matrix.shape[0])\n",
        "    if(square and (identity == matrix).all()):\n",
        "      print(f'Identity Matrix: True')\n",
        "    else:\n",
        "      print(f'Identity Matrix: False')\n",
        "       \n",
        "    ones = np.ones((matrix.shape[0], matrix.shape[1]))\n",
        "    if((ones == matrix).all()):\n",
        "      print(f'Ones Matrix: True')\n",
        "    else:\n",
        "      print(f'Ones Matrix: False')\n",
        "    \n",
        "    zero = np.zeros((matrix.shape[0], matrix.shape[1]))\n",
        "    if((zero == matrix).all()):\n",
        "      print(f'Zero Matrix: True \\n')\n",
        "    else:\n",
        "      print(f'Zero Matrix: False \\n')"
      ],
      "metadata": {
        "id": "k_AbX1F0yL6P"
      },
      "execution_count": null,
      "outputs": []
    },
    {
      "cell_type": "code",
      "source": [
        "## Matrix Declarations\n",
        "K = np.array([\n",
        "    [21,15,14],\n",
        "    [7,21,33],\n",
        "    [55,56,13]\n",
        "])\n",
        "\n",
        "L = np.array([\n",
        "    [44,21,13,4],\n",
        "    [12,11,10,8],\n",
        "    [7,4,8,12],\n",
        "    [19,21,29,16]\n",
        "])\n",
        "\n",
        "M = np.array([\n",
        "    [15,24,51,69],\n",
        "    [33,36,81,75],\n",
        "    [69,12,21,91]\n",
        "])\n",
        "\n",
        "N = np.array([\n",
        "    [12,21,57,10],\n",
        "    [33,39,84,20],\n",
        "    [55,62,13,30],\n",
        "    [1,2,3,40],\n",
        "    [10,11,12,50]\n",
        "])\n",
        "\n",
        "O = np.array([\n",
        "    [55,72,81,51],\n",
        "    [11,11,11,11],\n",
        "    [2,50,71,81],\n",
        "    [31,35,82,69]\n",
        "])\n"
      ],
      "metadata": {
        "id": "GMbswH4HyO1D"
      },
      "execution_count": null,
      "outputs": []
    },
    {
      "cell_type": "code",
      "source": [
        "## Test Areas\n",
        "mat_desc(K)\n",
        "\n",
        "mat_desc(L)\n",
        "\n",
        "mat_desc(M)\n",
        "\n",
        "mat_desc(N)\n",
        "\n",
        "mat_desc(O)"
      ],
      "metadata": {
        "colab": {
          "base_uri": "https://localhost:8080/"
        },
        "id": "BHpWPZnMyTIt",
        "outputId": "04f72bbe-e3c9-4928-8215-54ec04122e21"
      },
      "execution_count": null,
      "outputs": [
        {
          "output_type": "stream",
          "name": "stdout",
          "text": [
            "Matrix:\n",
            "[[21 15 14]\n",
            " [ 7 21 33]\n",
            " [55 56 13]]\n",
            "\n",
            "Shape:\t(3, 3)\n",
            "Rank:2\n",
            "Square Matrix:True\n",
            "Empty Matrix: False\n",
            "Identity Matrix: False\n",
            "Ones Matrix: False\n",
            "Zero Matrix: False \n",
            "\n",
            "Matrix:\n",
            "[[44 21 13  4]\n",
            " [12 11 10  8]\n",
            " [ 7  4  8 12]\n",
            " [19 21 29 16]]\n",
            "\n",
            "Shape:\t(4, 4)\n",
            "Rank:2\n",
            "Square Matrix:True\n",
            "Empty Matrix: False\n",
            "Identity Matrix: False\n",
            "Ones Matrix: False\n",
            "Zero Matrix: False \n",
            "\n",
            "Matrix:\n",
            "[[15 24 51 69]\n",
            " [33 36 81 75]\n",
            " [69 12 21 91]]\n",
            "\n",
            "Shape:\t(3, 4)\n",
            "Rank:2\n",
            "Square Matrix:False\n",
            "Empty Matrix: False\n",
            "Identity Matrix: False\n",
            "Ones Matrix: False\n",
            "Zero Matrix: False \n",
            "\n",
            "Matrix:\n",
            "[[12 21 57 10]\n",
            " [33 39 84 20]\n",
            " [55 62 13 30]\n",
            " [ 1  2  3 40]\n",
            " [10 11 12 50]]\n",
            "\n",
            "Shape:\t(5, 4)\n",
            "Rank:2\n",
            "Square Matrix:False\n",
            "Empty Matrix: False\n",
            "Identity Matrix: False\n",
            "Ones Matrix: False\n",
            "Zero Matrix: False \n",
            "\n",
            "Matrix:\n",
            "[[55 72 81 51]\n",
            " [11 11 11 11]\n",
            " [ 2 50 71 81]\n",
            " [31 35 82 69]]\n",
            "\n",
            "Shape:\t(4, 4)\n",
            "Rank:2\n",
            "Square Matrix:True\n",
            "Empty Matrix: False\n",
            "Identity Matrix: False\n",
            "Ones Matrix: False\n",
            "Zero Matrix: False \n",
            "\n"
          ]
        }
      ]
    },
    {
      "cell_type": "markdown",
      "source": [
        "### Task 2"
      ],
      "metadata": {
        "id": "eddt-qapyat1"
      }
    },
    {
      "cell_type": "markdown",
      "source": [
        "Create a function named `mat_operations()` that takes in two matrices a input parameters it should:<br>\n",
        " 1. Determines if the matrices are viable for operation and returns your own error message if they are not viable.\n",
        " 2. Returns the sum of the matrices.\n",
        " 3. Returns the difference of the matrices.\n",
        " 4. Returns the element-wise multiplication of the matrices.\n",
        " 5. Returns the element-wise division of the matrices.\n",
        "\n",
        "Use 5 sample matrices in which their shapes are not lower than $(3,3)$.\n",
        "In your methodology, create a flowchart discuss the functions and methods you have done. Present your results in the results section showing the description of each matrix you have declared."
      ],
      "metadata": {
        "id": "SeYYB9clyiBE"
      }
    },
    {
      "cell_type": "code",
      "source": [
        "## Function Area\n",
        "import numpy as np\n",
        "def mat_operations(P, Q):\n",
        "    print(f'Matrix 1:\\n {P} \\n')\n",
        "    print(f'Matrix 2:\\n {Q} \\n')\n",
        "\n",
        "    if(P.shape != Q.shape):\n",
        "        print('The shape of both matrices are not the same. The system could not perform any operation.')\n",
        "        return\n",
        "\n",
        "    plus = P + Q\n",
        "    print(f'Sum of the chosen matrices:\\n {plus} \\n')\n",
        "\n",
        "    minus = P - Q\n",
        "    print(f'Difference of the chosen matrices: \\n {minus} \\n')\n",
        "\n",
        "    matpro = np.multiply(P, Q)\n",
        "    print(f'Element-wise multiplication of the chosen matrices:\\n {matpro}\\n')\n",
        "\n",
        "    matdiv = np.divide(P, Q)\n",
        "    print(f'Element-wise division of the chosen matrices:\\n {matdiv}\\n')"
      ],
      "metadata": {
        "id": "iUjcuDxzykeu"
      },
      "execution_count": null,
      "outputs": []
    },
    {
      "cell_type": "code",
      "source": [
        "## Matrix Declarations\n",
        "P = np.array([[13, 40, 30], \n",
        "              [30, 10, 40], \n",
        "              [50, 60, 12]])\n",
        "Q = np.array([[12, 21, 42], \n",
        "              [21, 30, 42], \n",
        "              [42, 51, 60]])\n",
        "R = np.array([[15, 24, 45], \n",
        "              [27, 30, 42], \n",
        "              [45, 54, 63]])\n",
        "S = np.array([[18, 50, 60], \n",
        "              [10, 15, 20], \n",
        "              [10, 20, 18]])\n",
        "T = np.array([[16, 25, 45], \n",
        "              [25, 35, 45], \n",
        "              [45, 55, 65]])"
      ],
      "metadata": {
        "id": "3GKoSNq1yk02"
      },
      "execution_count": null,
      "outputs": []
    },
    {
      "cell_type": "code",
      "source": [
        "## Test Areas\n",
        "mat_operations(P, Q)"
      ],
      "metadata": {
        "id": "vp-g179HylJc",
        "colab": {
          "base_uri": "https://localhost:8080/"
        },
        "outputId": "6ed915be-4af9-41cf-df7c-9aafe869bb93"
      },
      "execution_count": null,
      "outputs": [
        {
          "output_type": "stream",
          "name": "stdout",
          "text": [
            "Matrix 1:\n",
            " [[13 40 30]\n",
            " [30 10 40]\n",
            " [50 60 12]] \n",
            "\n",
            "Matrix 2:\n",
            " [[12 21 42]\n",
            " [21 30 42]\n",
            " [42 51 60]] \n",
            "\n",
            "Sum of the chosen matrices:\n",
            " [[ 25  61  72]\n",
            " [ 51  40  82]\n",
            " [ 92 111  72]] \n",
            "\n",
            "Difference of the chosen matrices: \n",
            " [[  1  19 -12]\n",
            " [  9 -20  -2]\n",
            " [  8   9 -48]] \n",
            "\n",
            "Element-wise multiplication of the chosen matrices:\n",
            " [[ 156  840 1260]\n",
            " [ 630  300 1680]\n",
            " [2100 3060  720]]\n",
            "\n",
            "Element-wise division of the chosen matrices:\n",
            " [[1.08333333 1.9047619  0.71428571]\n",
            " [1.42857143 0.33333333 0.95238095]\n",
            " [1.19047619 1.17647059 0.2       ]]\n",
            "\n"
          ]
        }
      ]
    },
    {
      "cell_type": "markdown",
      "source": [
        "## Conclusion"
      ],
      "metadata": {
        "id": "kByrJOjhypMo"
      }
    },
    {
      "cell_type": "markdown",
      "source": [
        "For your conclusion synthesize the concept and application of the laboratory. Briefly discuss what you have learned and achieved in this activity. Also answer the question: \"How can matrix operations solve problems in technology?\"."
      ],
      "metadata": {
        "id": "QuLf0LDzyug8"
      }
    },
    {
      "cell_type": "markdown",
      "source": [
        "In this laboratory activity, the students learned the basic concepts behind linear equations, markdown, LaTeX markdown, definition and classifications of matrices, and matrix algebra.\n",
        "\n",
        "Matrices are groups of numbers that are characterized by their rows and columns. Linear Equations can be converted into Matrices and vice-versa. The students also learned how to code linear equations and matrices using Python. \n",
        "\n",
        "Classifications of Matrices are also discussed such as classifications according to its shape: row and column matrices, and square matrices. Matrices are also classified by its element values, namely Null Matrix, Zero Matrix, Ones Matrix, Diagonal Matrix, Identity Matrix, Upper Triangular Matrix, and Lower Triangular Matrix.\n",
        "\n",
        "Just like integers, matrices can also be manipulated by algebraic operations such as addition, subtraction, element-wise multiplication, and element-wise division.\n",
        "\n",
        "According to Ferrao (2021), Matrices have different applications in many fields of science such as graphics, games, economics and business, animations, physics, encryption, geology, electrical circuits, and others. In our opinion, matrices can solve problems in technology through applying it in the concept of encryption. One of the problems in technology that we are currently facing is the spreading of personal information. We think that through applying matrices in encryption, people, especially students like us, can be free in using the internet knowing that our personal information is safe from being stolen and being used by other people.\n",
        "\n",
        "Another usage of matrices is in the field of statistics and research, for example in plotting graphs. In this way, matrices can help the technology to point out problems and can give ideas on how to solve it.\n",
        "\n",
        "Matrix operations can solve problems in technology because they are used to approximate more sophisticated calculations quickly. Originally, they were created to describe systems of linear equations. Computers can multiply matrices to solve systems of linear equations in applications like image processing and genetic research."
      ],
      "metadata": {
        "id": "JnNBm27KVt4Z"
      }
    }
  ]
}