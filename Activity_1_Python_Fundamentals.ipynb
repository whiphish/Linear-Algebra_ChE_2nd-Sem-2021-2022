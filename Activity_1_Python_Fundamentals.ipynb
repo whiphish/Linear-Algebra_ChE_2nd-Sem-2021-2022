{
  "nbformat": 4,
  "nbformat_minor": 0,
  "metadata": {
    "colab": {
      "name": "Activity 1 - Python Fundamentals",
      "provenance": [],
      "include_colab_link": true
    },
    "kernelspec": {
      "name": "python3",
      "display_name": "Python 3"
    },
    "language_info": {
      "name": "python"
    }
  },
  "cells": [
    {
      "cell_type": "markdown",
      "metadata": {
        "id": "view-in-github",
        "colab_type": "text"
      },
      "source": [
        "<a href=\"https://colab.research.google.com/github/whiphish/Linear-Algebra_ChE_2nd-Sem-2021-2022/blob/main/Activity_1_Python_Fundamentals.ipynb\" target=\"_parent\"><img src=\"https://colab.research.google.com/assets/colab-badge.svg\" alt=\"Open In Colab\"/></a>"
      ]
    },
    {
      "cell_type": "markdown",
      "source": [
        "# Welome to Python Fundamentals\n",
        "\n",
        "In this module, we are going to establish or review our skills in Python programming. In this notebook, we are going to cover:\n",
        "\n",
        "* Variables and Data Types\n",
        "* Operations\n",
        "* Looping Statements\n",
        "* Functions\n",
        "\n",
        "The students are also tasked to make a grade calculator in the end of this module."
      ],
      "metadata": {
        "id": "sqrDhalB_o3y"
      }
    },
    {
      "cell_type": "markdown",
      "source": [
        "## Variable and Data Types\n",
        "\n",
        "Declaring the variable and knowing the type of data the programmer used is one of the important things to learn. Properly declaring the variable is important for the program to run properly. Knowing the type of data can let the programmer know what functions or codes applicable for such data. In this section, the students learned:\n",
        "\n",
        "* Ways to declare variables\n",
        "* Use a data type identifier\n",
        "* Data Types\n",
        "  * float\n",
        "  * integer\n",
        "  * string\n",
        "  * char\n",
        "  * and etc.\n",
        "* changing integer to float, and\n",
        "* getting the integer form of a string\n",
        "\n"
      ],
      "metadata": {
        "id": "zZVbQ29OAFX6"
      }
    },
    {
      "cell_type": "code",
      "source": [
        "#declaration of variables\n",
        "m = 7           #declaration of one variable\n",
        "a,r = 15, 1     #declaration of one or more variables"
      ],
      "metadata": {
        "id": "h5q8TuV5AQwF"
      },
      "execution_count": null,
      "outputs": []
    },
    {
      "cell_type": "code",
      "source": [
        "#data type identifier\n",
        "type(a)         #function key for data type identifier"
      ],
      "metadata": {
        "colab": {
          "base_uri": "https://localhost:8080/"
        },
        "id": "MvPLUBjsA6nM",
        "outputId": "c32fbf5b-3c1d-46cd-9ac7-116015f887e2"
      },
      "execution_count": null,
      "outputs": [
        {
          "output_type": "execute_result",
          "data": {
            "text/plain": [
              "int"
            ]
          },
          "metadata": {},
          "execution_count": 2
        }
      ]
    },
    {
      "cell_type": "code",
      "source": [
        "#float - usually number with decimal places\n",
        "c = 1.0         #declaration of variable\n",
        "type(c)         #data type identifier"
      ],
      "metadata": {
        "colab": {
          "base_uri": "https://localhost:8080/"
        },
        "id": "eNXpLFkyBjNl",
        "outputId": "1a36a061-b163-43a9-d20f-6fa903b02df3"
      },
      "execution_count": null,
      "outputs": [
        {
          "output_type": "execute_result",
          "data": {
            "text/plain": [
              "float"
            ]
          },
          "metadata": {},
          "execution_count": 3
        }
      ]
    },
    {
      "cell_type": "code",
      "source": [
        "#changing integer to float\n",
        "m = float(m)    #function key to change integer to float\n",
        "type(m)         #data type identifier"
      ],
      "metadata": {
        "colab": {
          "base_uri": "https://localhost:8080/"
        },
        "id": "6z9uFLG4Bs_K",
        "outputId": "948f7eec-fcdb-4253-e06b-a6e618cd8580"
      },
      "execution_count": null,
      "outputs": [
        {
          "output_type": "execute_result",
          "data": {
            "text/plain": [
              "float"
            ]
          },
          "metadata": {},
          "execution_count": 4
        }
      ]
    },
    {
      "cell_type": "code",
      "source": [
        "#string - data which consists of two or more characters\n",
        "n,g,e = \"2\", '2', 'two'   #declaration of variables\n",
        "type(e)                   #data type identifier"
      ],
      "metadata": {
        "colab": {
          "base_uri": "https://localhost:8080/"
        },
        "id": "0EPxYiMlB5DL",
        "outputId": "397e8c43-6e42-4d3f-cb09-2575d93dddc8"
      },
      "execution_count": null,
      "outputs": [
        {
          "output_type": "execute_result",
          "data": {
            "text/plain": [
              "str"
            ]
          },
          "metadata": {},
          "execution_count": 20
        }
      ]
    },
    {
      "cell_type": "code",
      "source": [
        "#integer form\n",
        "n_int = int(n)   #function key to change string to integer form\n",
        "n_int            #output operation"
      ],
      "metadata": {
        "colab": {
          "base_uri": "https://localhost:8080/"
        },
        "id": "nYwOyTWlCSvr",
        "outputId": "b1172d33-be20-4abc-eb71-62fee2199d92"
      },
      "execution_count": null,
      "outputs": [
        {
          "output_type": "execute_result",
          "data": {
            "text/plain": [
              "2"
            ]
          },
          "metadata": {},
          "execution_count": 21
        }
      ]
    },
    {
      "cell_type": "markdown",
      "source": [
        "##Operations\n",
        "\n",
        "This section taught the students different operations in order for the students to finish projects which involves mathematical operations, logic, and input and output operations."
      ],
      "metadata": {
        "id": "RmvbetJwCwQ3"
      }
    },
    {
      "cell_type": "markdown",
      "source": [
        "###Arithmetic\n",
        "\n",
        "Arithmetic is one of the basic functions that a student should learn in coding any programming language, such as Python. In this section, the students learned to code mathematical operations such as:\n",
        "* addition, \n",
        "* subtraction,\n",
        "* multiplication, \n",
        "* division, \n",
        "* floor division,\n",
        "* exponentiation, and \n",
        "* modulo."
      ],
      "metadata": {
        "id": "J4xT4mOVC6FJ"
      }
    },
    {
      "cell_type": "code",
      "source": [
        "#declaration of variables\n",
        "l,o,s,b = 10.0, -0.2, 5, -15"
      ],
      "metadata": {
        "id": "m_mcSWyhC9uY"
      },
      "execution_count": null,
      "outputs": []
    },
    {
      "cell_type": "code",
      "source": [
        "### Addition\n",
        "Sum = l + o               #addition operation\n",
        "Sum                       #output operation"
      ],
      "metadata": {
        "colab": {
          "base_uri": "https://localhost:8080/"
        },
        "id": "REfinIP6DHAO",
        "outputId": "d5d5b4a7-ad6c-49d5-afb7-23e10713df02"
      },
      "execution_count": null,
      "outputs": [
        {
          "output_type": "execute_result",
          "data": {
            "text/plain": [
              "9.8"
            ]
          },
          "metadata": {},
          "execution_count": 4
        }
      ]
    },
    {
      "cell_type": "code",
      "source": [
        "### Subtraction\n",
        "Difference = s - b        #subtraction operation\n",
        "Difference                #output operation"
      ],
      "metadata": {
        "colab": {
          "base_uri": "https://localhost:8080/"
        },
        "id": "buXjDcS9Efgr",
        "outputId": "e6629230-3be6-43dc-9c37-3188866602c9"
      },
      "execution_count": null,
      "outputs": [
        {
          "output_type": "execute_result",
          "data": {
            "text/plain": [
              "20"
            ]
          },
          "metadata": {},
          "execution_count": 5
        }
      ]
    },
    {
      "cell_type": "code",
      "source": [
        "### Multipliation\n",
        "Product = o*s             #multiplication operation\n",
        "Product                   #output operation"
      ],
      "metadata": {
        "colab": {
          "base_uri": "https://localhost:8080/"
        },
        "id": "5cjzvCkzErjW",
        "outputId": "ec711578-bd36-4e5f-f373-510ebcd9e4f2"
      },
      "execution_count": null,
      "outputs": [
        {
          "output_type": "execute_result",
          "data": {
            "text/plain": [
              "-1.0"
            ]
          },
          "metadata": {},
          "execution_count": 3
        }
      ]
    },
    {
      "cell_type": "code",
      "source": [
        "### Division\n",
        "Quotient = l/s            #division operation\n",
        "Quotient                  #output operation"
      ],
      "metadata": {
        "colab": {
          "base_uri": "https://localhost:8080/"
        },
        "id": "bUIGcr9xEyfe",
        "outputId": "2a649851-c6ce-4093-98ec-2714ead87b85"
      },
      "execution_count": null,
      "outputs": [
        {
          "output_type": "execute_result",
          "data": {
            "text/plain": [
              "2.0"
            ]
          },
          "metadata": {},
          "execution_count": 11
        }
      ]
    },
    {
      "cell_type": "code",
      "source": [
        "### Floor Division\n",
        "Floorquotient = l//b      #floor division operation\n",
        "Floorquotient             #output operation"
      ],
      "metadata": {
        "colab": {
          "base_uri": "https://localhost:8080/"
        },
        "id": "bGZNA1xCE31q",
        "outputId": "fa212b02-a9f4-414d-f35c-8328aad88f68"
      },
      "execution_count": null,
      "outputs": [
        {
          "output_type": "execute_result",
          "data": {
            "text/plain": [
              "-1.0"
            ]
          },
          "metadata": {},
          "execution_count": 4
        }
      ]
    },
    {
      "cell_type": "code",
      "source": [
        "### Exponentiation\n",
        "Exp = l**s                #exponentiation operation\n",
        "Exp                       #output operation"
      ],
      "metadata": {
        "colab": {
          "base_uri": "https://localhost:8080/"
        },
        "id": "eHpzqGLnFEgE",
        "outputId": "cc14da9a-ebf9-4974-8f37-ccd3cd4e0def"
      },
      "execution_count": null,
      "outputs": [
        {
          "output_type": "execute_result",
          "data": {
            "text/plain": [
              "100000.0"
            ]
          },
          "metadata": {},
          "execution_count": 13
        }
      ]
    },
    {
      "cell_type": "code",
      "source": [
        "### Modulo\n",
        "mod = b%l                 #modulo operation\n",
        "mod                       #output operation"
      ],
      "metadata": {
        "colab": {
          "base_uri": "https://localhost:8080/"
        },
        "id": "REYX6z5BGg97",
        "outputId": "5d764ee8-5cda-4c64-b781-71f3b576c8e6"
      },
      "execution_count": null,
      "outputs": [
        {
          "output_type": "execute_result",
          "data": {
            "text/plain": [
              "5.0"
            ]
          },
          "metadata": {},
          "execution_count": 14
        }
      ]
    },
    {
      "cell_type": "markdown",
      "source": [
        "### Assignment Operations\n",
        "\n",
        "Assignment Operations is also important part of learning to code using Python. Through the use of assignment operations, the programmer can use continuous arithmetic operations. The Assignment Operations are usually used in creating loops. In this section, the student learned to code: \n",
        "* increment, \n",
        "* decrement,\n",
        "* continuous product, and\n",
        "* continuous exponentiation"
      ],
      "metadata": {
        "id": "QWR6zI3cJm3Z"
      }
    },
    {
      "cell_type": "code",
      "source": [
        "#declaration of variables\n",
        "d, i, g, n = 10, 50, 20, 25"
      ],
      "metadata": {
        "id": "EGWLkYZtJq2L"
      },
      "execution_count": null,
      "outputs": []
    },
    {
      "cell_type": "code",
      "source": [
        "#increment\n",
        "d += i            #increment\n",
        "d                 #output"
      ],
      "metadata": {
        "colab": {
          "base_uri": "https://localhost:8080/"
        },
        "id": "IlER1v_OJyCm",
        "outputId": "8acfc622-6473-4fa7-ea31-98f22c3909c6"
      },
      "execution_count": null,
      "outputs": [
        {
          "output_type": "execute_result",
          "data": {
            "text/plain": [
              "60"
            ]
          },
          "metadata": {},
          "execution_count": 21
        }
      ]
    },
    {
      "cell_type": "code",
      "source": [
        "#decrement\n",
        "i -= g            #decrement\n",
        "i                 #output"
      ],
      "metadata": {
        "colab": {
          "base_uri": "https://localhost:8080/"
        },
        "id": "UUproeIIKEwW",
        "outputId": "8dd44745-7940-4c9f-e300-eaf1cc02a0b1"
      },
      "execution_count": null,
      "outputs": [
        {
          "output_type": "execute_result",
          "data": {
            "text/plain": [
              "30"
            ]
          },
          "metadata": {},
          "execution_count": 17
        }
      ]
    },
    {
      "cell_type": "code",
      "source": [
        "#continuous product \n",
        "g *= 5            #continuous product\n",
        "g                 #output"
      ],
      "metadata": {
        "colab": {
          "base_uri": "https://localhost:8080/"
        },
        "id": "myiAuc6lKdjr",
        "outputId": "407ae4db-1115-4430-84f8-e4f7721c1f79"
      },
      "execution_count": null,
      "outputs": [
        {
          "output_type": "execute_result",
          "data": {
            "text/plain": [
              "100"
            ]
          },
          "metadata": {},
          "execution_count": 18
        }
      ]
    },
    {
      "cell_type": "code",
      "source": [
        "#continuous exponentiation\n",
        "n **= 2           #continuous exponentiation\n",
        "n                 #output"
      ],
      "metadata": {
        "colab": {
          "base_uri": "https://localhost:8080/"
        },
        "id": "AfaC0bNVLIED",
        "outputId": "2206b047-a595-499c-d5bc-0330b08a2af4"
      },
      "execution_count": null,
      "outputs": [
        {
          "output_type": "execute_result",
          "data": {
            "text/plain": [
              "625"
            ]
          },
          "metadata": {},
          "execution_count": 19
        }
      ]
    },
    {
      "cell_type": "markdown",
      "source": [
        "### Comparators\n",
        "\n",
        "Comparators are usually use to compare one or more variable/s to one or more other variable/s in terms of its equality, non-equality and, inequality. To say that variables are equal to one another, they must have the same value. Non-equality is the opposite of equality wherein the values of the variables the programmer is comparing must have different values from one another. Inequality is used to tell that one variable or set of variables is greater than, less than, greater than or equal to, or less than or equal to another variable or set of variables."
      ],
      "metadata": {
        "id": "QxuFVLknLWRI"
      }
    },
    {
      "cell_type": "code",
      "source": [
        "###declaration of variables\n",
        "ex_1, ex_2, ex_3 = 2, 4.0, \"6\"\n",
        "true_val = 4.0      "
      ],
      "metadata": {
        "id": "sW4hZW7zLZYw"
      },
      "execution_count": null,
      "outputs": []
    },
    {
      "cell_type": "code",
      "source": [
        "### Equality\n",
        "ex_1 == true_val"
      ],
      "metadata": {
        "colab": {
          "base_uri": "https://localhost:8080/"
        },
        "id": "qwzMNmVELkDs",
        "outputId": "1333d750-9490-4b89-a822-9695f6d75826"
      },
      "execution_count": null,
      "outputs": [
        {
          "output_type": "execute_result",
          "data": {
            "text/plain": [
              "False"
            ]
          },
          "metadata": {},
          "execution_count": 21
        }
      ]
    },
    {
      "cell_type": "code",
      "source": [
        "### Non-equality\n",
        "ex_2 != true_val"
      ],
      "metadata": {
        "colab": {
          "base_uri": "https://localhost:8080/"
        },
        "id": "wxnHoEC3Lrj_",
        "outputId": "9320f231-15fc-4d92-866e-d98c942f890c"
      },
      "execution_count": null,
      "outputs": [
        {
          "output_type": "execute_result",
          "data": {
            "text/plain": [
              "False"
            ]
          },
          "metadata": {},
          "execution_count": 22
        }
      ]
    },
    {
      "cell_type": "code",
      "source": [
        "### Inequality\n",
        "true1 = ex_1 > ex_2               #greater than\n",
        "true2 = ex_1 < ex_2/4             #less than\n",
        "true3 = ex_1 >= ex_2/4            #greater than or equal to\n",
        "true4 = ex_1 <= ex_2              #less than or equal to\n",
        "true4                             #output operation"
      ],
      "metadata": {
        "colab": {
          "base_uri": "https://localhost:8080/"
        },
        "id": "_d1O6hukL1dV",
        "outputId": "a270e13e-8f2a-41a9-beb8-d88d102e31c8"
      },
      "execution_count": null,
      "outputs": [
        {
          "output_type": "execute_result",
          "data": {
            "text/plain": [
              "True"
            ]
          },
          "metadata": {},
          "execution_count": 23
        }
      ]
    },
    {
      "cell_type": "markdown",
      "source": [
        "### Logical\n",
        "\n",
        "In these part of python, these logicals are responsible for comparing 2 data in the program. Some examples of logical are \"or\" (either one of the variable meet the expectation, then its true), \"and\"(both of the variable must meet the expectation to be true), \"true\" (declaring a variable or statement, true; can be used as parameter), \"false\" (declaring a variable or statement, false; can be used as  parameter)"
      ],
      "metadata": {
        "id": "_xuQCk7tMURv"
      }
    },
    {
      "cell_type": "code",
      "source": [
        "###usage of equality symbol\n",
        "ex_1 == true_val"
      ],
      "metadata": {
        "colab": {
          "base_uri": "https://localhost:8080/"
        },
        "id": "FDiKvnjGMWWx",
        "outputId": "0bc1ae46-6769-4986-aecb-28c0cdb4295f"
      },
      "execution_count": null,
      "outputs": [
        {
          "output_type": "execute_result",
          "data": {
            "text/plain": [
              "False"
            ]
          },
          "metadata": {},
          "execution_count": 24
        }
      ]
    },
    {
      "cell_type": "code",
      "source": [
        "###usage of is\n",
        "ex_1 is true_val"
      ],
      "metadata": {
        "colab": {
          "base_uri": "https://localhost:8080/"
        },
        "id": "G5LPWlRvMbtD",
        "outputId": "1dbe88ee-74fa-4027-c6a2-eee4c1e02ced"
      },
      "execution_count": null,
      "outputs": [
        {
          "output_type": "execute_result",
          "data": {
            "text/plain": [
              "False"
            ]
          },
          "metadata": {},
          "execution_count": 25
        }
      ]
    },
    {
      "cell_type": "code",
      "source": [
        "###usage of is not\n",
        "ex_1 is not true_val"
      ],
      "metadata": {
        "colab": {
          "base_uri": "https://localhost:8080/"
        },
        "id": "Z6BV_19UMgAL",
        "outputId": "a8c46304-a6ce-43a6-8048-7aa1718898ef"
      },
      "execution_count": null,
      "outputs": [
        {
          "output_type": "execute_result",
          "data": {
            "text/plain": [
              "True"
            ]
          },
          "metadata": {},
          "execution_count": 26
        }
      ]
    },
    {
      "cell_type": "code",
      "source": [
        "###conjuction\n",
        "t, f = True, False              #declaration of variables\n",
        "con = t and f                   #conjuction\n",
        "con                             #output"
      ],
      "metadata": {
        "colab": {
          "base_uri": "https://localhost:8080/"
        },
        "id": "xLqkzII7MluJ",
        "outputId": "e839b1e3-c28f-4d1e-8e24-9ac9c9b164b3"
      },
      "execution_count": null,
      "outputs": [
        {
          "output_type": "execute_result",
          "data": {
            "text/plain": [
              "False"
            ]
          },
          "metadata": {},
          "execution_count": 27
        }
      ]
    },
    {
      "cell_type": "code",
      "source": [
        "###disjunction\n",
        "t, f = True, False              #declaration of variables\n",
        "dis = t or f                    #disjunction\n",
        "dis                             #output"
      ],
      "metadata": {
        "colab": {
          "base_uri": "https://localhost:8080/"
        },
        "id": "0arlHdznNUo-",
        "outputId": "19d0d2fc-3540-48b2-9396-126cc1d3317b"
      },
      "execution_count": null,
      "outputs": [
        {
          "output_type": "execute_result",
          "data": {
            "text/plain": [
              "True"
            ]
          },
          "metadata": {},
          "execution_count": 28
        }
      ]
    },
    {
      "cell_type": "code",
      "source": [
        "#not\n",
        "t, f = True, False              #declaration of variables\n",
        "notand = not(t and f)           #not and and operations\n",
        "notand                          #output"
      ],
      "metadata": {
        "colab": {
          "base_uri": "https://localhost:8080/"
        },
        "id": "e9CyKsEmNp0-",
        "outputId": "01ca0e6b-eb32-44e8-fc4c-427549f60ffa"
      },
      "execution_count": null,
      "outputs": [
        {
          "output_type": "execute_result",
          "data": {
            "text/plain": [
              "True"
            ]
          },
          "metadata": {},
          "execution_count": 29
        }
      ]
    },
    {
      "cell_type": "code",
      "source": [
        "#elongated example for logical operation              \n",
        "t, f = True, False                                #declaration of variables\n",
        "notorandnot = (not t and f) or (t and not f)      #combination of logical operations\n",
        "notorandnot                                       #output"
      ],
      "metadata": {
        "colab": {
          "base_uri": "https://localhost:8080/"
        },
        "id": "2wj9fQXVOHaf",
        "outputId": "64f2e9e1-15b8-45e8-d811-9d4d3c8a01c7"
      },
      "execution_count": null,
      "outputs": [
        {
          "output_type": "execute_result",
          "data": {
            "text/plain": [
              "True"
            ]
          },
          "metadata": {},
          "execution_count": 30
        }
      ]
    },
    {
      "cell_type": "markdown",
      "source": [
        "### I/O\n",
        "\n",
        "A program is not functional if a user cant interact with it same goes with the program. That is why I/O is crucial in every code. Using an input and output, we can create a 2 way communication between the program and user. Input is responsible for taking what necessary data from the user that will be needed in the program. meanwhile, output is responsible for showing the data needed to be shown (either the inputted data of the user or the product of the process)."
      ],
      "metadata": {
        "id": "EeIBpS_bO-BI"
      }
    },
    {
      "cell_type": "code",
      "source": [
        "### Output\n",
        "print(\"Hello Marc!\")"
      ],
      "metadata": {
        "colab": {
          "base_uri": "https://localhost:8080/"
        },
        "id": "sDkT6V6cPApq",
        "outputId": "1fc48df3-616e-4d80-c62c-31f5bc8ec20c"
      },
      "execution_count": null,
      "outputs": [
        {
          "output_type": "stream",
          "name": "stdout",
          "text": [
            "Hello Marc!\n"
          ]
        }
      ]
    },
    {
      "cell_type": "code",
      "source": [
        "#counter\n",
        "cnt = 1"
      ],
      "metadata": {
        "id": "VUUlPiCQPPU8"
      },
      "execution_count": null,
      "outputs": []
    },
    {
      "cell_type": "code",
      "source": [
        "# Output with a counter\n",
        "string = \"Hello Marc!\"                            #declaration of variable\n",
        "print(string,\"Current run count is:\", cnt)        #output operation with counter\n",
        "cnt += 1                                          #counter"
      ],
      "metadata": {
        "colab": {
          "base_uri": "https://localhost:8080/"
        },
        "id": "IX8e7PYzPah0",
        "outputId": "50f3b541-527d-40a8-d1a4-f9de86a72fdc"
      },
      "execution_count": null,
      "outputs": [
        {
          "output_type": "stream",
          "name": "stdout",
          "text": [
            "Hello Marc! Current run count is: 1\n"
          ]
        }
      ]
    },
    {
      "cell_type": "code",
      "source": [
        "#Output with a counter (Another Way)\n",
        "print(f\"{string}, Curret count is: {cnt}\")"
      ],
      "metadata": {
        "colab": {
          "base_uri": "https://localhost:8080/"
        },
        "id": "klWb3AUXP3AZ",
        "outputId": "e3b89974-7e9d-43d0-fe57-8be82cb006e8"
      },
      "execution_count": null,
      "outputs": [
        {
          "output_type": "stream",
          "name": "stdout",
          "text": [
            "Hello Marc!, Curret count is: 2\n"
          ]
        }
      ]
    },
    {
      "cell_type": "code",
      "source": [
        "#Other Output Format\n",
        "grade = 85.9271790                                                          #declaration of variable float\n",
        "name = \"Marc\"                                                               #declaration of variable string \n",
        "print(\"Hello {}! Your semestral grade is: {}\".format(name, grade))          #output using .format"
      ],
      "metadata": {
        "colab": {
          "base_uri": "https://localhost:8080/"
        },
        "id": "7VxLnH8gQNh3",
        "outputId": "acb854a6-15c1-4786-9ce7-f6536378c86b"
      },
      "execution_count": null,
      "outputs": [
        {
          "output_type": "stream",
          "name": "stdout",
          "text": [
            "Hello Marc! Your semestral grade is: 85.927179\n"
          ]
        }
      ]
    },
    {
      "cell_type": "code",
      "source": [
        "#\\n-endline #\\t-indention #:semicolonforpercentages \n",
        "Math, Science, English, Filipino = 0.85, 0.86, 0.84, 0.83                   \n",
        "print(\"Your semestral grades are:\\\n",
        "\\n\\t{:.2%} for Math\\\n",
        "\\n\\t{:.2%} for Sciench\\\n",
        "\\n\\t{:.2%} for English, and\\\n",
        "\\n\\t{:.2%} for Filipino.\".format(Math, Science, English, Filipino))"
      ],
      "metadata": {
        "colab": {
          "base_uri": "https://localhost:8080/"
        },
        "id": "xFv2JZuu_Ksy",
        "outputId": "57fc166c-229f-452e-c118-09994035f6aa"
      },
      "execution_count": null,
      "outputs": [
        {
          "output_type": "stream",
          "name": "stdout",
          "text": [
            "Your semestral grades are:\n",
            "\t85.00% for Math\n",
            "\t86.00% for Sciench\n",
            "\t84.00% for English, and\n",
            "\t83.00% for Filipino.\n"
          ]
        }
      ]
    },
    {
      "cell_type": "code",
      "source": [
        "#inputting numbers\n",
        "number = input(\"Enter a number: \")              #input\n",
        "number                                          #output"
      ],
      "metadata": {
        "colab": {
          "base_uri": "https://localhost:8080/",
          "height": 53
        },
        "id": "lC5bDnZ2AwsF",
        "outputId": "1920664c-f658-408e-c866-4b357eb08997"
      },
      "execution_count": null,
      "outputs": [
        {
          "name": "stdout",
          "output_type": "stream",
          "text": [
            "Enter a number: 2\n"
          ]
        },
        {
          "output_type": "execute_result",
          "data": {
            "application/vnd.google.colaboratory.intrinsic+json": {
              "type": "string"
            },
            "text/plain": [
              "'2'"
            ]
          },
          "metadata": {},
          "execution_count": 2
        }
      ]
    },
    {
      "cell_type": "code",
      "source": [
        "#inputting words, phrases, or sentences\n",
        "surname = input(\"Enter your surname: \")                                                                     #input string 1\n",
        "fname = input(\"Enter your first name: \")                                                                    #input string 2\n",
        "mname = input(\"Enter your middle name: \")                                                                   #input string 3\n",
        "program = input(\"Enter your program of study: \")                                                            #input string 4\n",
        "print(\"Hello {}, {} {}! Your program of study is: {}\".format(surname, fname, mname, program))               #output using .format"
      ],
      "metadata": {
        "colab": {
          "base_uri": "https://localhost:8080/"
        },
        "id": "c2jKb28GBB3q",
        "outputId": "620a18bd-58bd-4631-d834-a3f27581ff4c"
      },
      "execution_count": null,
      "outputs": [
        {
          "output_type": "stream",
          "name": "stdout",
          "text": [
            "Enter your surname: Ignacio\n",
            "Enter your first name: Marc Angelo\n",
            "Enter your middle name: Sabado\n",
            "Enter your program of study: BS Petroleum Engineering\n",
            "Hello Ignacio, Marc Angelo Sabado! Your program of study is: BS Petroleum Engineering\n"
          ]
        }
      ]
    },
    {
      "cell_type": "markdown",
      "source": [
        "# Looping Statements"
      ],
      "metadata": {
        "id": "Uu3anK54FA97"
      }
    },
    {
      "cell_type": "markdown",
      "source": [
        "### While loop\n",
        "\n",
        "Using a long line of code is never a good idea. It will backfire you when troubleshooting. that is why, using a while loop, we can create a series of process to a specific data instead of writing it one by one. another use of while loop is if the program or user has a long list, while loop can print/display all of it instead of writing a code displaying them one by one."
      ],
      "metadata": {
        "id": "C3ukKjMyFHJf"
      }
    },
    {
      "cell_type": "code",
      "source": [
        "##while loop\n",
        "i,j = 10,30                   #declaration of variables\n",
        "while(i<=j):                  #while loop\n",
        "  print(f\"{i}\\t|\\t{j}\")       #output operation\n",
        "  i+=1                        #increment"
      ],
      "metadata": {
        "colab": {
          "base_uri": "https://localhost:8080/"
        },
        "id": "MohBrtEhFRJA",
        "outputId": "539b33a8-3c8c-4184-88a8-5534852bc1f0"
      },
      "execution_count": null,
      "outputs": [
        {
          "output_type": "stream",
          "name": "stdout",
          "text": [
            "10\t|\t30\n",
            "11\t|\t30\n",
            "12\t|\t30\n",
            "13\t|\t30\n",
            "14\t|\t30\n",
            "15\t|\t30\n",
            "16\t|\t30\n",
            "17\t|\t30\n",
            "18\t|\t30\n",
            "19\t|\t30\n",
            "20\t|\t30\n",
            "21\t|\t30\n",
            "22\t|\t30\n",
            "23\t|\t30\n",
            "24\t|\t30\n",
            "25\t|\t30\n",
            "26\t|\t30\n",
            "27\t|\t30\n",
            "28\t|\t30\n",
            "29\t|\t30\n",
            "30\t|\t30\n"
          ]
        }
      ]
    },
    {
      "cell_type": "markdown",
      "source": [
        "##For Loop"
      ],
      "metadata": {
        "id": "lHHzeUntGdcN"
      }
    },
    {
      "cell_type": "code",
      "source": [
        "#for loop java\n",
        "#for(int i=0; i<10; i++){\n",
        "    #print{i}\n",
        "#}\n",
        "\n",
        "#for loop python\n",
        "i=0                       #initialization\n",
        "for i in range(51):       #for loop\n",
        "  print(i)                #output operation"
      ],
      "metadata": {
        "colab": {
          "base_uri": "https://localhost:8080/"
        },
        "id": "oOF15gF5Gh2s",
        "outputId": "e8c4d29d-48a3-43e5-e0f4-cc62fdb52cb4"
      },
      "execution_count": null,
      "outputs": [
        {
          "output_type": "stream",
          "name": "stdout",
          "text": [
            "0\n",
            "1\n",
            "2\n",
            "3\n",
            "4\n",
            "5\n",
            "6\n",
            "7\n",
            "8\n",
            "9\n",
            "10\n",
            "11\n",
            "12\n",
            "13\n",
            "14\n",
            "15\n",
            "16\n",
            "17\n",
            "18\n",
            "19\n",
            "20\n",
            "21\n",
            "22\n",
            "23\n",
            "24\n",
            "25\n",
            "26\n",
            "27\n",
            "28\n",
            "29\n",
            "30\n",
            "31\n",
            "32\n",
            "33\n",
            "34\n",
            "35\n",
            "36\n",
            "37\n",
            "38\n",
            "39\n",
            "40\n",
            "41\n",
            "42\n",
            "43\n",
            "44\n",
            "45\n",
            "46\n",
            "47\n",
            "48\n",
            "49\n",
            "50\n"
          ]
        }
      ]
    },
    {
      "cell_type": "code",
      "source": [
        "#making a playlist\n",
        "playlist = [\"THATS WHAT I WANT\",\"Save Your Tears\",\"Huh\", \"Traitor\", \"My Head & My Heart\", \"Ambulance\", \"Don't Go Yet\", \"Leave Before You Love Me\"]    #playlist\n",
        "print('Now Playing:\\n')                                                                                                                               #output statement\n",
        "for song in playlist:                                                                                                                                 #for loop\n",
        "  print(song)                                                                                                                                         #output for list inside playlist"
      ],
      "metadata": {
        "colab": {
          "base_uri": "https://localhost:8080/"
        },
        "id": "Iy1cOTubHVhq",
        "outputId": "5ed03774-1e59-41db-9ab3-834340c357ce"
      },
      "execution_count": null,
      "outputs": [
        {
          "output_type": "stream",
          "name": "stdout",
          "text": [
            "Now Playing:\n",
            "\n",
            "THATS WHAT I WANT\n",
            "Save Your Tears\n",
            "Huh\n",
            "Traitor\n",
            "My Head & My Heart\n",
            "Ambulance\n",
            "Don't Go Yet\n",
            "Leave Before You Love Me\n"
          ]
        }
      ]
    },
    {
      "cell_type": "markdown",
      "source": [
        "#Flow Control"
      ],
      "metadata": {
        "id": "8Jup60hTIEz-"
      }
    },
    {
      "cell_type": "markdown",
      "source": [
        "##Conditional Statements\n",
        "\n",
        "In python, sometimes data needed to be process must be filtered or meet a certain qualification. That is why, conditional statements (if else) are used in the program. If else or conditional statements are responsible for creating a difference or filtering the data inputted by the user. this can be used to determine whether this data is not needed, or can be used what process the program should do with this specific data."
      ],
      "metadata": {
        "id": "l-84Dk9KIJw_"
      }
    },
    {
      "cell_type": "code",
      "source": [
        "#If-else and else-if statements\n",
        "num1, num2 = 24, 50             #declaration of variables\n",
        "if(num1 == num2):               #if-statement\n",
        "    print(\"Nice\")               #output operation for if-statement\n",
        "elif(num1>num2):                #else-if statement\n",
        "    print(\"Very Nice\")          #output operation for else-if statement\n",
        "else:                           #else statement\n",
        "    print(\"Sad\")                #ouput operation for else statement"
      ],
      "metadata": {
        "colab": {
          "base_uri": "https://localhost:8080/"
        },
        "id": "fhaukpxOOTOk",
        "outputId": "d48241c2-69e8-44e7-a1c2-76d552e3bf67"
      },
      "execution_count": null,
      "outputs": [
        {
          "output_type": "stream",
          "name": "stdout",
          "text": [
            "Sad\n"
          ]
        }
      ]
    },
    {
      "cell_type": "markdown",
      "source": [
        "#Functions"
      ],
      "metadata": {
        "id": "nyUAUUz9J7IS"
      }
    },
    {
      "cell_type": "code",
      "source": [
        "#void Deleteuser(int userid){\n",
        "    #delete(userid);\n",
        "#}\n",
        "\n",
        "def delete_user (userid):                                         #definition \n",
        "  print(\"Successfully deleted use: {}\".format(userid))            #output\n",
        "\n",
        "def delete_all_users ():                                          #definition\n",
        "  print(\"Successfully deleted all users\")                         #output"
      ],
      "metadata": {
        "id": "EgXbIXoUJ9dj"
      },
      "execution_count": null,
      "outputs": []
    },
    {
      "cell_type": "code",
      "source": [
        "#delete user and delete all users\n",
        "userid = 201914726                                                #declaration of variable\n",
        "delete_user(201914726)                                            #output\n",
        "delete_all_users()                                                #output"
      ],
      "metadata": {
        "colab": {
          "base_uri": "https://localhost:8080/"
        },
        "id": "eYW9OhFxKrSs",
        "outputId": "e83ba577-a1c6-4d43-9551-bc9ca1b36b27"
      },
      "execution_count": null,
      "outputs": [
        {
          "output_type": "stream",
          "name": "stdout",
          "text": [
            "Successfully deleted use: 201914726\n",
            "Successfully deleted all users\n"
          ]
        }
      ]
    },
    {
      "cell_type": "code",
      "source": [
        "#defining terms\n",
        "def add(sum1, sum2):                                        #definition\n",
        "  print(\"I know how to add sum1 and sum2\")                  #output\n",
        "  return sum1 + sum2                                        #return\n",
        "\n",
        "def power_of_base3(exponent):                               #definition\n",
        "  return 3**exponent                                        #return\n",
        "\n",
        "sum1 = 25                                                   #declaration of variable\n",
        "sum2 = 10                                                   #declaration of variable\n",
        "\n",
        "exponent = 10                                               #declaration of variable\n",
        "\n",
        "add(sum1,sum2)                                              #output of first definition\n",
        "#power_of_base3(exponent)                                   #output of second definition"
      ],
      "metadata": {
        "colab": {
          "base_uri": "https://localhost:8080/"
        },
        "id": "Mc7WtTZiOD93",
        "outputId": "96a726a5-027e-43fb-ec10-202255f75dd4"
      },
      "execution_count": null,
      "outputs": [
        {
          "output_type": "stream",
          "name": "stdout",
          "text": [
            "I know how to add addend1 and addend2\n"
          ]
        },
        {
          "output_type": "execute_result",
          "data": {
            "text/plain": [
              "35"
            ]
          },
          "metadata": {},
          "execution_count": 3
        }
      ]
    },
    {
      "cell_type": "markdown",
      "source": [
        "#Grade Calculator\n",
        "Create a grade calculator that computes for the semestral grade of a course.\n",
        "Students could type their names, the name of the course, then their prelim, midterm, and final grade.\n",
        "\n",
        "The program should print the semestral grade in 2 decimal points and should display the following emojis depending on the situation:\n",
        "\n",
        "happy - when grade is greater than 70.00\n",
        "\n",
        "laughing - when grade is exactly 70.00\n",
        "\n",
        "sad - when grade is below 70.00\n",
        "\n",
        "happy, lol, sad - \"\\U0001F600\", \"\\U0001F606\",\" \\U0001F620\""
      ],
      "metadata": {
        "id": "Bjandlqq6803"
      }
    },
    {
      "cell_type": "code",
      "source": [
        "#Grade Calculator\n",
        "\n",
        "name = input(\"Enter your name: \")                                                                           #input for name\n",
        "course = input(\"Name of Course: \")                                                                          #input for course\n",
        "\n",
        "prelim = input(\"Enter your prelim grade: \")                                                                 #input for prelim grade\n",
        "midterm = input(\"Enter your midterm grade: \")                                                               #input for midterm grade\n",
        "finals = input(\"Enter your finals grade: \")                                                                 #input for finals grade\n",
        "\n",
        "semestral = float(prelim)*0.3 + float(midterm)*0.3 + float(finals)*0.4                                      #arithmetic to get semestral grade\n",
        "s_g = round(semestral, 2)                                                                                   #arithmetic to round off grade to two decimal places\n",
        "\n",
        "if s_g>70.00:                                                                                               #if statement for condition 1\n",
        "    print(\"Good day! {} of {}! Your semestral grade is: {} \\U0001F600\".format(name, course, s_g))           #output operation for condition 1 using .format\n",
        "\n",
        "elif s_g==70.00:                                                                                            #else-if statement for condition 2\n",
        "    print(\"Good day! {} of {}! Your semestral grade is: {} \\U0001F606\".format(name, course, s_g))           #output operation for condition 2 using .format\n",
        "\n",
        "else:                                                                                                       #else statement for condition 3\n",
        "    print(\"Good day! {} of {}! Your semestral grade is: {} \\U0001F620\".format(name, course, s_g))           #output operation for condition 3 using .format"
      ],
      "metadata": {
        "colab": {
          "base_uri": "https://localhost:8080/"
        },
        "id": "OkhDbmYPcyYG",
        "outputId": "3046a931-d403-4fe3-f0da-6fbbdd369957"
      },
      "execution_count": null,
      "outputs": [
        {
          "output_type": "stream",
          "name": "stdout",
          "text": [
            "Enter your name: CHARMAINE A. GONZALES\n",
            "Name of Course: BS Chemical Engineering\n",
            "Enter your prelim grade: 97\n",
            "Enter your midterm grade: 97\n",
            "Enter your finals grade: 97\n",
            "Good day! CHARMAINE A. GONZALES of BS Chemical Engineering! Your semestral grade is: 97.0 😀\n"
          ]
        }
      ]
    }
  ]
}