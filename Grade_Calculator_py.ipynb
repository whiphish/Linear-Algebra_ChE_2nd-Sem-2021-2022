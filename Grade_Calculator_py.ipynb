{
  "nbformat": 4,
  "nbformat_minor": 0,
  "metadata": {
    "colab": {
      "name": "Grade Calculator.py",
      "provenance": [],
      "authorship_tag": "ABX9TyPS+yAKhxydqwYGVj1XC3wL",
      "include_colab_link": true
    },
    "kernelspec": {
      "name": "python3",
      "display_name": "Python 3"
    },
    "language_info": {
      "name": "python"
    }
  },
  "cells": [
    {
      "cell_type": "markdown",
      "metadata": {
        "id": "view-in-github",
        "colab_type": "text"
      },
      "source": [
        "<a href=\"https://colab.research.google.com/github/whiphish/Linear-Algebra_ChE_2nd-Sem-2021-2022/blob/main/Grade_Calculator_py.ipynb\" target=\"_parent\"><img src=\"https://colab.research.google.com/assets/colab-badge.svg\" alt=\"Open In Colab\"/></a>"
      ]
    },
    {
      "cell_type": "code",
      "execution_count": null,
      "metadata": {
        "id": "7ef_sbqGOorw"
      },
      "outputs": [],
      "source": [
        "input(\"Enter your name: \")\n",
        "input(\"Name of the course: \")\n",
        "\n",
        "p_grade = input(\"Prelim grade: \")\n",
        "m_grade = input(\"Midterm grade: \")\n",
        "f_grade = input(\"Final grade: \")\n",
        "\n",
        "Semestral_Grade = (float(p_grade) + float(m_grade) + float(f_grade)) / 3 \n",
        "\n",
        "if Semestral_Grade > 70:  \n",
        "  print(str(round(Semestral_Grade, 2)) + \" \\U0001F600\")\n",
        "elif Semestral_Grade == 70:\n",
        "  print(str(round(Semestral_Grade, 2)) + \" \\U0001F606\")\n",
        "else: \n",
        "  print(str(round(Semestral_Grade, 2)) + \" \\U0001F62D\")\n",
        "\n"
      ]
    }
  ]
}